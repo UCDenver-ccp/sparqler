{
 "cells": [
  {
   "cell_type": "markdown",
   "metadata": {},
   "source": [
    "# Angiogenesis"
   ]
  },
  {
   "cell_type": "markdown",
   "metadata": {},
   "source": [
    "## Introduction"
   ]
  },
  {
   "cell_type": "code",
   "execution_count": 4,
   "metadata": {},
   "outputs": [
    {
     "name": "stdout",
     "output_type": "stream",
     "text": [
      "Added jar: [.]\n"
     ]
    },
    {
     "name": "stderr",
     "output_type": "stream",
     "text": [
      "WARNING: min already refers to: #'clojure.core/min in namespace: sparqler.terms, being replaced by: #'boutros.matsu.sparql/min\n",
      "WARNING: group-by already refers to: #'clojure.core/group-by in namespace: sparqler.terms, being replaced by: #'boutros.matsu.sparql/group-by\n",
      "WARNING: concat already refers to: #'clojure.core/concat in namespace: sparqler.terms, being replaced by: #'boutros.matsu.sparql/concat\n",
      "WARNING: filter already refers to: #'clojure.core/filter in namespace: sparqler.terms, being replaced by: #'boutros.matsu.sparql/filter\n",
      "WARNING: max already refers to: #'clojure.core/max in namespace: sparqler.terms, being replaced by: #'boutros.matsu.sparql/max\n",
      "WARNING: count already refers to: #'clojure.core/count in namespace: sparqler.terms, being replaced by: #'boutros.matsu.sparql/count\n",
      "WARNING: min already refers to: #'clojure.core/min in namespace: sparqler.forms, being replaced by: #'boutros.matsu.sparql/min\n",
      "WARNING: group-by already refers to: #'clojure.core/group-by in namespace: sparqler.forms, being replaced by: #'boutros.matsu.sparql/group-by\n",
      "WARNING: concat already refers to: #'clojure.core/concat in namespace: sparqler.forms, being replaced by: #'boutros.matsu.sparql/concat\n",
      "WARNING: filter already refers to: #'clojure.core/filter in namespace: sparqler.forms, being replaced by: #'boutros.matsu.sparql/filter\n",
      "WARNING: max already refers to: #'clojure.core/max in namespace: sparqler.forms, being replaced by: #'boutros.matsu.sparql/max\n",
      "WARNING: count already refers to: #'clojure.core/count in namespace: sparqler.forms, being replaced by: #'boutros.matsu.sparql/count\n",
      "WARNING: min already refers to: #'clojure.core/min in namespace: sparqler.queries, being replaced by: #'boutros.matsu.sparql/min\n",
      "WARNING: group-by already refers to: #'clojure.core/group-by in namespace: sparqler.queries, being replaced by: #'boutros.matsu.sparql/group-by\n",
      "WARNING: concat already refers to: #'clojure.core/concat in namespace: sparqler.queries, being replaced by: #'boutros.matsu.sparql/concat\n",
      "WARNING: filter already refers to: #'clojure.core/filter in namespace: sparqler.queries, being replaced by: #'boutros.matsu.sparql/filter\n",
      "WARNING: max already refers to: #'clojure.core/max in namespace: sparqler.queries, being replaced by: #'boutros.matsu.sparql/max\n",
      "WARNING: count already refers to: #'clojure.core/count in namespace: sparqler.queries, being replaced by: #'boutros.matsu.sparql/count\n",
      "WARNING: update already refers to: #'clojure.core/update in namespace: clj-sparql.core, being replaced by: #'clj-sparql.core/update\n"
     ]
    },
    {
     "data": {
      "text/plain": [
       "null"
      ]
     },
     "execution_count": 4,
     "metadata": {},
     "output_type": "execute_result"
    }
   ],
   "source": [
    "%classpath add mvn joda-time joda-time 2.9.9\n",
    "%classpath add mvn clj-sparql clj-sparql 0.2.0\n",
    "%classpath add jar .\n",
    ";; (load-file \"boutros/matsu/compiler.clj\")\n",
    "(require 'sparqler.core)\n",
    ";; (require 'sparqler.queries)"
   ]
  },
  {
   "cell_type": "code",
   "execution_count": 1,
   "metadata": {},
   "outputs": [],
   "source": [
    "%load_ext sql"
   ]
  },
  {
   "cell_type": "code",
   "execution_count": 5,
   "metadata": {},
   "outputs": [
    {
     "data": {
      "text/plain": [
       "null"
      ]
     },
     "execution_count": 5,
     "metadata": {},
     "output_type": "execute_result"
    }
   ],
   "source": [
    "(refer 'sparqler.core)\n",
    "(assert kabob)"
   ]
  },
  {
   "cell_type": "markdown",
   "metadata": {},
   "source": [
    "## Query"
   ]
  },
  {
   "cell_type": "markdown",
   "metadata": {},
   "source": [
    "### Manual SPARQL"
   ]
  },
  {
   "cell_type": "markdown",
   "metadata": {},
   "source": [
    "The following cell will be stored in the beakerx.query1 variable...."
   ]
  },
  {
   "cell_type": "code",
   "execution_count": 2,
   "metadata": {},
   "outputs": [
    {
     "ename": "Exception",
     "evalue": "Format: (postgresql|mysql)://username:password@hostname/dbname, or one of dict_keys([])",
     "output_type": "error",
     "traceback": [
      "\u001b[0;31m--------------------------------------------------------------------\u001b[0m",
      "\u001b[0;31mException\u001b[0m                          Traceback (most recent call last)",
      "\u001b[0;32m<ipython-input-2-da5c77a80172>\u001b[0m in \u001b[0;36m<module>\u001b[0;34m()\u001b[0m\n\u001b[0;32m----> 1\u001b[0;31m \u001b[0mget_ipython\u001b[0m\u001b[1;33m(\u001b[0m\u001b[1;33m)\u001b[0m\u001b[1;33m.\u001b[0m\u001b[0mrun_cell_magic\u001b[0m\u001b[1;33m(\u001b[0m\u001b[1;34m'sql'\u001b[0m\u001b[1;33m,\u001b[0m \u001b[1;34m''\u001b[0m\u001b[1;33m,\u001b[0m \u001b[1;34m'PREFIX obo: <http://purl.obolibrary.org/obo/>\\nPREFIX rdf: <http://www.w3.org/1999/02/22-rdf-syntax-ns#>\\nPREFIX rdfs: <http://www.w3.org/2000/01/rdf-schema#>\\nPREFIX owl: <http://www.w3.org/2002/07/owl#>\\nPREFIX oboMeta: <http://www.geneontology.org/formats/oboInOwl#>\\nPREFIX kiao: <http://kabob.ucdenver.edu/iao/>\\nPREFIX iaouniprot: <http://kabob.ucdenver.edu/iao/uniprot/>\\nPREFIX franzOption_clauseReorderer: <franz:identity>\\nPREFIX franzOption_chunkProcessingAllowed: <franz:yes>\\nPREFIX franzOption_memoryLimit: <franz:60g>\\nPREFIX franzOption_memoryExhaustionWarningPercentage: <franz:90.0>\\n\\nSELECT DISTINCT ?angioSubs ?partProtId ?intProtId  \\n\\nWHERE {\\n\\n  #select angiogenesis GOBPs and its subclasses that are in the OBO namespace\\n  \\n  ?angioSubs rdfs:subClassOf* obo:GO_0001525 . #angiogenesis\\n  ?angioSubs oboMeta:hasOBONamespace ?OBONamespace . #OBO ns (BPs)\\n\\n  #restriction - only want human proteins that participate in these GOBPs\\n  \\n  ?anonSubclass rdfs:subClassOf ?angioSubs .\\n  ?anonSubclass rdfs:subClassOf ?protRest .\\n\\n  ?protRest rdf:type owl:Restriction .\\n  ?protRest owl:onProperty obo:RO_0000057 . #has_participant\\n  ?protRest owl:someValuesFrom ?protSub .\\n\\n  ?protSub rdfs:subClassOf ?protClass .\\n  ?protClass rdfs:subClassOf* obo:CHEBI_36080 . #protein\\n  ?partProtId obo:IAO_0000219 ?protClass .\\n\\n  ?protClass rdfs:subClassOf ?taxonRest .\\n  ?taxonRest owl:onProperty obo:RO_0002162 . #in taxon\\n  ?taxonRest owl:someValuesFrom obo:NCBITaxon_9606 . #human\\n\\n  #swisprot ids – participating proteins\\n  ?idField obo:IAO_0000219 ?partProtId .\\n  ?idField kiao:hasTemplate iaouniprot:UniProtFileRecord_primaryAccessionDataField1 .\\n  ?record obo:BFO_0000051 ?idField .\\n  ?record obo:BFO_0000051 ?nameField .\\n  ?nameField kiao:hasTemplate iaouniprot:UniProtFileRecord_nameDataField1 .\\n  ?nameField obo:IAO_0000219 ?partProtName . # uniprot name\\n\\n  #protein interactions\\n  ?protSub2 rdfs:subClassOf ?protClass .\\n  ?r_hasp owl:someValuesFrom ?protSub2 .\\n  ?r_hasp rdf:type owl:Restriction .\\n  ?r_hasp owl:onProperty obo:RO_0000057 . #has_participant\\n\\n  ?interaction rdfs:subClassOf ?r_hasp .\\n  ?interaction rdfs:subClassOf ?rcard .\\n  ?rcard owl:cardinality 2 . # require 2 participants for a binary interaction\\n  ?rcard owl:onProperty obo:RO_0000057 . #has_participant\\n\\n  ?interaction rdfs:subClassOf ?r_hasp2 .\\n  ?r_hasp2 rdf:type owl:Restriction .\\n  ?r_hasp2 owl:onProperty obo:RO_0000057 . #has_participant \\\\n\\n  ?r_hasp2 owl:someValuesFrom ?protSub3 .\\n\\n  ?protSub3 rdfs:subClassOf ?protClass3 .\\n  ?protClass3 rdfs:subClassOf ?taxonRest .\\n  ?protClass3 rdfs:subClassOf* obo:CHEBI_36080 . #protein\\n  ?intProtId obo:IAO_0000219 ?protClass3 .\\n\\n  FILTER (?protSub3 != ?protSub2) .\\n\\n  #swisprot ids – participating-protein’s protein interaction partner names\\n  ?idField2 obo:IAO_0000219 ?intProtId . #field denotes ice id\\n  ?idField2 kiao:hasTemplate iaouniprot:UniProtFileRecord_primaryAccessionDataField1 .\\n  ?record2 obo:BFO_0000051 ?idField2 . #record has part id field (column)\\n  ?record2 obo:BFO_0000051 ?nameField2 . #record has part name field\\n  ?nameField2 kiao:hasTemplate iaouniprot:UniProtFileRecord_nameDataField1 .\\n  ?nameField2 obo:IAO_0000219 ?intProtName . # uniprot name\\n  }'\u001b[0m\u001b[1;33m)\u001b[0m\u001b[1;33m\u001b[0m\u001b[0m\n\u001b[0m",
      "\u001b[0;32mC:\\Users\\Harrison\\Anaconda3\\lib\\site-packages\\IPython\\core\\interactiveshell.py\u001b[0m in \u001b[0;36mrun_cell_magic\u001b[0;34m(self, magic_name, line, cell)\u001b[0m\n\u001b[1;32m   2113\u001b[0m             \u001b[0mmagic_arg_s\u001b[0m \u001b[1;33m=\u001b[0m \u001b[0mself\u001b[0m\u001b[1;33m.\u001b[0m\u001b[0mvar_expand\u001b[0m\u001b[1;33m(\u001b[0m\u001b[0mline\u001b[0m\u001b[1;33m,\u001b[0m \u001b[0mstack_depth\u001b[0m\u001b[1;33m)\u001b[0m\u001b[1;33m\u001b[0m\u001b[0m\n\u001b[1;32m   2114\u001b[0m             \u001b[1;32mwith\u001b[0m \u001b[0mself\u001b[0m\u001b[1;33m.\u001b[0m\u001b[0mbuiltin_trap\u001b[0m\u001b[1;33m:\u001b[0m\u001b[1;33m\u001b[0m\u001b[0m\n\u001b[0;32m-> 2115\u001b[0;31m                 \u001b[0mresult\u001b[0m \u001b[1;33m=\u001b[0m \u001b[0mfn\u001b[0m\u001b[1;33m(\u001b[0m\u001b[0mmagic_arg_s\u001b[0m\u001b[1;33m,\u001b[0m \u001b[0mcell\u001b[0m\u001b[1;33m)\u001b[0m\u001b[1;33m\u001b[0m\u001b[0m\n\u001b[0m\u001b[1;32m   2116\u001b[0m             \u001b[1;32mreturn\u001b[0m \u001b[0mresult\u001b[0m\u001b[1;33m\u001b[0m\u001b[0m\n\u001b[1;32m   2117\u001b[0m \u001b[1;33m\u001b[0m\u001b[0m\n",
      "\u001b[0;32m<decorator-gen-124>\u001b[0m in \u001b[0;36mexecute\u001b[0;34m(self, line, cell, local_ns)\u001b[0m\n",
      "\u001b[0;32mC:\\Users\\Harrison\\Anaconda3\\lib\\site-packages\\IPython\\core\\magic.py\u001b[0m in \u001b[0;36m<lambda>\u001b[0;34m(f, *a, **k)\u001b[0m\n\u001b[1;32m    186\u001b[0m     \u001b[1;31m# but it's overkill for just that one bit of state.\u001b[0m\u001b[1;33m\u001b[0m\u001b[1;33m\u001b[0m\u001b[0m\n\u001b[1;32m    187\u001b[0m     \u001b[1;32mdef\u001b[0m \u001b[0mmagic_deco\u001b[0m\u001b[1;33m(\u001b[0m\u001b[0marg\u001b[0m\u001b[1;33m)\u001b[0m\u001b[1;33m:\u001b[0m\u001b[1;33m\u001b[0m\u001b[0m\n\u001b[0;32m--> 188\u001b[0;31m         \u001b[0mcall\u001b[0m \u001b[1;33m=\u001b[0m \u001b[1;32mlambda\u001b[0m \u001b[0mf\u001b[0m\u001b[1;33m,\u001b[0m \u001b[1;33m*\u001b[0m\u001b[0ma\u001b[0m\u001b[1;33m,\u001b[0m \u001b[1;33m**\u001b[0m\u001b[0mk\u001b[0m\u001b[1;33m:\u001b[0m \u001b[0mf\u001b[0m\u001b[1;33m(\u001b[0m\u001b[1;33m*\u001b[0m\u001b[0ma\u001b[0m\u001b[1;33m,\u001b[0m \u001b[1;33m**\u001b[0m\u001b[0mk\u001b[0m\u001b[1;33m)\u001b[0m\u001b[1;33m\u001b[0m\u001b[0m\n\u001b[0m\u001b[1;32m    189\u001b[0m \u001b[1;33m\u001b[0m\u001b[0m\n\u001b[1;32m    190\u001b[0m         \u001b[1;32mif\u001b[0m \u001b[0mcallable\u001b[0m\u001b[1;33m(\u001b[0m\u001b[0marg\u001b[0m\u001b[1;33m)\u001b[0m\u001b[1;33m:\u001b[0m\u001b[1;33m\u001b[0m\u001b[0m\n",
      "\u001b[0;32m<decorator-gen-123>\u001b[0m in \u001b[0;36mexecute\u001b[0;34m(self, line, cell, local_ns)\u001b[0m\n",
      "\u001b[0;32mC:\\Users\\Harrison\\Anaconda3\\lib\\site-packages\\IPython\\core\\magic.py\u001b[0m in \u001b[0;36m<lambda>\u001b[0;34m(f, *a, **k)\u001b[0m\n\u001b[1;32m    186\u001b[0m     \u001b[1;31m# but it's overkill for just that one bit of state.\u001b[0m\u001b[1;33m\u001b[0m\u001b[1;33m\u001b[0m\u001b[0m\n\u001b[1;32m    187\u001b[0m     \u001b[1;32mdef\u001b[0m \u001b[0mmagic_deco\u001b[0m\u001b[1;33m(\u001b[0m\u001b[0marg\u001b[0m\u001b[1;33m)\u001b[0m\u001b[1;33m:\u001b[0m\u001b[1;33m\u001b[0m\u001b[0m\n\u001b[0;32m--> 188\u001b[0;31m         \u001b[0mcall\u001b[0m \u001b[1;33m=\u001b[0m \u001b[1;32mlambda\u001b[0m \u001b[0mf\u001b[0m\u001b[1;33m,\u001b[0m \u001b[1;33m*\u001b[0m\u001b[0ma\u001b[0m\u001b[1;33m,\u001b[0m \u001b[1;33m**\u001b[0m\u001b[0mk\u001b[0m\u001b[1;33m:\u001b[0m \u001b[0mf\u001b[0m\u001b[1;33m(\u001b[0m\u001b[1;33m*\u001b[0m\u001b[0ma\u001b[0m\u001b[1;33m,\u001b[0m \u001b[1;33m**\u001b[0m\u001b[0mk\u001b[0m\u001b[1;33m)\u001b[0m\u001b[1;33m\u001b[0m\u001b[0m\n\u001b[0m\u001b[1;32m    189\u001b[0m \u001b[1;33m\u001b[0m\u001b[0m\n\u001b[1;32m    190\u001b[0m         \u001b[1;32mif\u001b[0m \u001b[0mcallable\u001b[0m\u001b[1;33m(\u001b[0m\u001b[0marg\u001b[0m\u001b[1;33m)\u001b[0m\u001b[1;33m:\u001b[0m\u001b[1;33m\u001b[0m\u001b[0m\n",
      "\u001b[0;32mC:\\Users\\Harrison\\Anaconda3\\lib\\site-packages\\sql\\magic.py\u001b[0m in \u001b[0;36mexecute\u001b[0;34m(self, line, cell, local_ns)\u001b[0m\n\u001b[1;32m     79\u001b[0m \u001b[1;33m\u001b[0m\u001b[0m\n\u001b[1;32m     80\u001b[0m         \u001b[0mparsed\u001b[0m \u001b[1;33m=\u001b[0m \u001b[0msql\u001b[0m\u001b[1;33m.\u001b[0m\u001b[0mparse\u001b[0m\u001b[1;33m.\u001b[0m\u001b[0mparse\u001b[0m\u001b[1;33m(\u001b[0m\u001b[1;34m'%s\\n%s'\u001b[0m \u001b[1;33m%\u001b[0m \u001b[1;33m(\u001b[0m\u001b[0mline\u001b[0m\u001b[1;33m,\u001b[0m \u001b[0mcell\u001b[0m\u001b[1;33m)\u001b[0m\u001b[1;33m,\u001b[0m \u001b[0mself\u001b[0m\u001b[1;33m)\u001b[0m\u001b[1;33m\u001b[0m\u001b[0m\n\u001b[0;32m---> 81\u001b[0;31m         \u001b[0mconn\u001b[0m \u001b[1;33m=\u001b[0m \u001b[0msql\u001b[0m\u001b[1;33m.\u001b[0m\u001b[0mconnection\u001b[0m\u001b[1;33m.\u001b[0m\u001b[0mConnection\u001b[0m\u001b[1;33m.\u001b[0m\u001b[0mget\u001b[0m\u001b[1;33m(\u001b[0m\u001b[0mparsed\u001b[0m\u001b[1;33m[\u001b[0m\u001b[1;34m'connection'\u001b[0m\u001b[1;33m]\u001b[0m\u001b[1;33m)\u001b[0m\u001b[1;33m\u001b[0m\u001b[0m\n\u001b[0m\u001b[1;32m     82\u001b[0m         \u001b[0mfirst_word\u001b[0m \u001b[1;33m=\u001b[0m \u001b[0mparsed\u001b[0m\u001b[1;33m[\u001b[0m\u001b[1;34m'sql'\u001b[0m\u001b[1;33m]\u001b[0m\u001b[1;33m.\u001b[0m\u001b[0msplit\u001b[0m\u001b[1;33m(\u001b[0m\u001b[1;32mNone\u001b[0m\u001b[1;33m,\u001b[0m \u001b[1;36m1\u001b[0m\u001b[1;33m)\u001b[0m\u001b[1;33m[\u001b[0m\u001b[1;33m:\u001b[0m\u001b[1;36m1\u001b[0m\u001b[1;33m]\u001b[0m\u001b[1;33m\u001b[0m\u001b[0m\n\u001b[1;32m     83\u001b[0m         \u001b[1;32mif\u001b[0m \u001b[0mfirst_word\u001b[0m \u001b[1;32mand\u001b[0m \u001b[0mfirst_word\u001b[0m\u001b[1;33m[\u001b[0m\u001b[1;36m0\u001b[0m\u001b[1;33m]\u001b[0m\u001b[1;33m.\u001b[0m\u001b[0mlower\u001b[0m\u001b[1;33m(\u001b[0m\u001b[1;33m)\u001b[0m \u001b[1;33m==\u001b[0m \u001b[1;34m'persist'\u001b[0m\u001b[1;33m:\u001b[0m\u001b[1;33m\u001b[0m\u001b[0m\n",
      "\u001b[0;32mC:\\Users\\Harrison\\Anaconda3\\lib\\site-packages\\sql\\connection.py\u001b[0m in \u001b[0;36mget\u001b[0;34m(cls, descriptor)\u001b[0m\n\u001b[1;32m     35\u001b[0m             \u001b[1;32mreturn\u001b[0m \u001b[0mcls\u001b[0m\u001b[1;33m.\u001b[0m\u001b[0mcurrent\u001b[0m\u001b[1;33m\u001b[0m\u001b[0m\n\u001b[1;32m     36\u001b[0m         \u001b[1;32melse\u001b[0m\u001b[1;33m:\u001b[0m\u001b[1;33m\u001b[0m\u001b[0m\n\u001b[0;32m---> 37\u001b[0;31m             \u001b[1;32mraise\u001b[0m \u001b[0mException\u001b[0m\u001b[1;33m(\u001b[0m\u001b[0mcls\u001b[0m\u001b[1;33m.\u001b[0m\u001b[0mtell_format\u001b[0m\u001b[1;33m(\u001b[0m\u001b[1;33m)\u001b[0m\u001b[1;33m)\u001b[0m\u001b[1;33m\u001b[0m\u001b[0m\n\u001b[0m\u001b[1;32m     38\u001b[0m     \u001b[1;33m@\u001b[0m\u001b[0mclassmethod\u001b[0m\u001b[1;33m\u001b[0m\u001b[0m\n\u001b[1;32m     39\u001b[0m     \u001b[1;32mdef\u001b[0m \u001b[0massign_name\u001b[0m\u001b[1;33m(\u001b[0m\u001b[0mcls\u001b[0m\u001b[1;33m,\u001b[0m \u001b[0mengine\u001b[0m\u001b[1;33m)\u001b[0m\u001b[1;33m:\u001b[0m\u001b[1;33m\u001b[0m\u001b[0m\n",
      "\u001b[0;31mException\u001b[0m: Format: (postgresql|mysql)://username:password@hostname/dbname, or one of dict_keys([])"
     ]
    }
   ],
   "source": [
    "%endpoint\n",
    "%%sql\n",
    "PREFIX obo: <http://purl.obolibrary.org/obo/>\n",
    "PREFIX rdf: <http://www.w3.org/1999/02/22-rdf-syntax-ns#>\n",
    "PREFIX rdfs: <http://www.w3.org/2000/01/rdf-schema#>\n",
    "PREFIX owl: <http://www.w3.org/2002/07/owl#>\n",
    "PREFIX oboMeta: <http://www.geneontology.org/formats/oboInOwl#>\n",
    "PREFIX kiao: <http://kabob.ucdenver.edu/iao/>\n",
    "PREFIX iaouniprot: <http://kabob.ucdenver.edu/iao/uniprot/>\n",
    "PREFIX franzOption_clauseReorderer: <franz:identity>\n",
    "PREFIX franzOption_chunkProcessingAllowed: <franz:yes>\n",
    "PREFIX franzOption_memoryLimit: <franz:60g>\n",
    "PREFIX franzOption_memoryExhaustionWarningPercentage: <franz:90.0>\n",
    "\n",
    "SELECT DISTINCT ?angioSubs ?partProtId ?intProtId  \n",
    "\n",
    "WHERE {\n",
    "\n",
    "  #select angiogenesis GOBPs and its subclasses that are in the OBO namespace\n",
    "  \n",
    "  ?angioSubs rdfs:subClassOf* obo:GO_0001525 . #angiogenesis\n",
    "  ?angioSubs oboMeta:hasOBONamespace ?OBONamespace . #OBO ns (BPs)\n",
    "\n",
    "  #restriction - only want human proteins that participate in these GOBPs\n",
    "  \n",
    "  ?anonSubclass rdfs:subClassOf ?angioSubs .\n",
    "  ?anonSubclass rdfs:subClassOf ?protRest .\n",
    "\n",
    "  ?protRest rdf:type owl:Restriction .\n",
    "  ?protRest owl:onProperty obo:RO_0000057 . #has_participant\n",
    "  ?protRest owl:someValuesFrom ?protSub .\n",
    "\n",
    "  ?protSub rdfs:subClassOf ?protClass .\n",
    "  ?protClass rdfs:subClassOf* obo:CHEBI_36080 . #protein\n",
    "  ?partProtId obo:IAO_0000219 ?protClass .\n",
    "\n",
    "  ?protClass rdfs:subClassOf ?taxonRest .\n",
    "  ?taxonRest owl:onProperty obo:RO_0002162 . #in taxon\n",
    "  ?taxonRest owl:someValuesFrom obo:NCBITaxon_9606 . #human\n",
    "\n",
    "  #swisprot ids – participating proteins\n",
    "  ?idField obo:IAO_0000219 ?partProtId .\n",
    "  ?idField kiao:hasTemplate iaouniprot:UniProtFileRecord_primaryAccessionDataField1 .\n",
    "  ?record obo:BFO_0000051 ?idField .\n",
    "  ?record obo:BFO_0000051 ?nameField .\n",
    "  ?nameField kiao:hasTemplate iaouniprot:UniProtFileRecord_nameDataField1 .\n",
    "  ?nameField obo:IAO_0000219 ?partProtName . # uniprot name\n",
    "\n",
    "  #protein interactions\n",
    "  ?protSub2 rdfs:subClassOf ?protClass .\n",
    "  ?r_hasp owl:someValuesFrom ?protSub2 .\n",
    "  ?r_hasp rdf:type owl:Restriction .\n",
    "  ?r_hasp owl:onProperty obo:RO_0000057 . #has_participant\n",
    "\n",
    "  ?interaction rdfs:subClassOf ?r_hasp .\n",
    "  ?interaction rdfs:subClassOf ?rcard .\n",
    "  ?rcard owl:cardinality 2 . # require 2 participants for a binary interaction\n",
    "  ?rcard owl:onProperty obo:RO_0000057 . #has_participant\n",
    "\n",
    "  ?interaction rdfs:subClassOf ?r_hasp2 .\n",
    "  ?r_hasp2 rdf:type owl:Restriction .\n",
    "  ?r_hasp2 owl:onProperty obo:RO_0000057 . #has_participant \\n\n",
    "  ?r_hasp2 owl:someValuesFrom ?protSub3 .\n",
    "\n",
    "  ?protSub3 rdfs:subClassOf ?protClass3 .\n",
    "  ?protClass3 rdfs:subClassOf ?taxonRest .\n",
    "  ?protClass3 rdfs:subClassOf* obo:CHEBI_36080 . #protein\n",
    "  ?intProtId obo:IAO_0000219 ?protClass3 .\n",
    "\n",
    "  FILTER (?protSub3 != ?protSub2) .\n",
    "\n",
    "  #swisprot ids – participating-protein’s protein interaction partner names\n",
    "  ?idField2 obo:IAO_0000219 ?intProtId . #field denotes ice id\n",
    "  ?idField2 kiao:hasTemplate iaouniprot:UniProtFileRecord_primaryAccessionDataField1 .\n",
    "  ?record2 obo:BFO_0000051 ?idField2 . #record has part id field (column)\n",
    "  ?record2 obo:BFO_0000051 ?nameField2 . #record has part name field\n",
    "  ?nameField2 kiao:hasTemplate iaouniprot:UniProtFileRecord_nameDataField1 .\n",
    "  ?nameField2 obo:IAO_0000219 ?intProtName . # uniprot name\n",
    "  }"
   ]
  },
  {
   "cell_type": "code",
   "execution_count": null,
   "metadata": {},
   "outputs": [],
   "source": [
    "%%javascript\n",
    "beakerx.query1 = beakerx.getCodeCells('query1')[0].code"
   ]
  },
  {
   "cell_type": "markdown",
   "metadata": {},
   "source": [
    "#### Manual Query Through Endpoint - JSON Result"
   ]
  },
  {
   "cell_type": "code",
   "execution_count": null,
   "metadata": {},
   "outputs": [],
   "source": [
    "(def query1 (beakerx :get \"query1\"))\n",
    "(def qexec1 (doto (QueryExecutionFactory/sparqlService (get kabob :endpoint) query1) (.setBasicAuthentication (get kabob :user) (char-array (get kabob :pass)))))\n",
    "(beakerx :set \"qexec1\" (str qexec1))"
   ]
  },
  {
   "cell_type": "code",
   "execution_count": null,
   "metadata": {},
   "outputs": [],
   "source": [
    "(def result1 (.execSelect qexec1))"
   ]
  },
  {
   "cell_type": "code",
   "execution_count": null,
   "metadata": {},
   "outputs": [],
   "source": [
    "(def outputStream (ByteArrayOutputStream.))\n",
    "(ResultSetFormatter/outputAsJSON outputStream result1)\n",
    "(def json1 (String. (.toByteArray outputStream)))\n",
    "(beakerx :set \"json1\" json1)"
   ]
  },
  {
   "cell_type": "code",
   "execution_count": null,
   "metadata": {},
   "outputs": [],
   "source": [
    "%%javascript\n",
    "JSON.parse(beakerx.json1).results.bindings.length"
   ]
  },
  {
   "cell_type": "markdown",
   "metadata": {},
   "source": [
    "#### Manual Query Through Endpoint - HASHMAP result "
   ]
  },
  {
   "cell_type": "code",
   "execution_count": null,
   "metadata": {},
   "outputs": [],
   "source": [
    "(def result1 (kabob-query (beakerx :get \"query1\")))"
   ]
  },
  {
   "cell_type": "code",
   "execution_count": null,
   "metadata": {},
   "outputs": [],
   "source": [
    "(count result1)"
   ]
  },
  {
   "cell_type": "code",
   "execution_count": null,
   "metadata": {},
   "outputs": [],
   "source": [
    ";(webview-query (beakerx :get \"query1\"))"
   ]
  },
  {
   "cell_type": "markdown",
   "metadata": {},
   "source": [
    "### SPARQLer"
   ]
  },
  {
   "cell_type": "code",
   "execution_count": 8,
   "metadata": {},
   "outputs": [
    {
     "data": {
      "text/plain": [
       "#'sparqler.core/sparqler-query"
      ]
     },
     "execution_count": 8,
     "metadata": {},
     "output_type": "execute_result"
    }
   ],
   "source": [
    "(in-ns 'sparqler.core)\n",
    "\n",
    "(defquery sparqler-query []\n",
    "  \n",
    "  (prefix \"PREFIX franzOption_clauseReorderer: <franz:identity>\n",
    "PREFIX franzOption_chunkProcessingAllowed: <franz:yes>\n",
    "PREFIX franzOption_memoryLimit: <franz:80g>\n",
    "PREFIX franzOption_queryTimeout: <franz:600>\n",
    "PREFIX franzOption_logQuery: <franz:yes>\n",
    "PREFIX franzOption_memoryExhaustionWarningPercentage: <franz:90.0>\\n\")\n",
    "  \n",
    "  (select-distinct :angioSubs :partProtId :intProtId)\n",
    "  \n",
    "  (where\n",
    "  \n",
    "   (!# \"VEGF - angiogenesis GOBP/subclasses, the proteins that participate in those GOBPs, and their protein-protein interactions\")\n",
    "    \n",
    "   (!# \"select angiogenesis GOBPs and its subclasses that are in the OBO namespace\")\n",
    "   (of-biological-process :angioSubs GO:angiogenesis)\n",
    "   \n",
    "   (!# \"restriction only want human proteins that participate in these GOBPs\")\n",
    "   (proteins-that-participates-in :protClass :angioSubs)\n",
    "   \n",
    "   (denotes :partProtId :protClass)\n",
    "   \n",
    "   (in-taxon obo:human :protClass)\n",
    "   \n",
    "   (!# \"swisprot ids participating proteins\")\n",
    "   (swissprot-name :partProtId :partProtName)\n",
    "\n",
    "   (!# \"protein interactions\")\n",
    "   (with-interactions :protClass :intProtId)\n",
    "\n",
    "   (!# \"swisprot ids – participating-protein’s protein interaction partner names\")\n",
    "   (swissprot-name :intProtId :intProtName)\n",
    "   ))"
   ]
  },
  {
   "cell_type": "code",
   "execution_count": 6,
   "metadata": {},
   "outputs": [
    {
     "data": {
      "text/plain": [
       "PREFIX franz: <http://franz.com>\n",
       "PREFIX iaouniprot: <http://kabob.ucdenver.edu/iao/uniprot/>\n",
       "PREFIX kiao: <http://kabob.ucdenver.edu/iao/>\n",
       "PREFIX obo: <http://purl.obolibrary.org/obo/>\n",
       "PREFIX oboMeta: <http://www.geneontology.org/formats/oboInOwl#>\n",
       "PREFIX owl: <http://www.w3.org/2002/07/owl#>\n",
       "PREFIX rdf: <http://www.w3.org/1999/02/22-rdf-syntax-ns#>\n",
       "PREFIX rdfs: <http://www.w3.org/2000/01/rdf-schema#>\n",
       "PREFIX franzOption_clauseReorderer: <franz:identity>\n",
       "PREFIX franzOption_chunkProcessingAllowed: <franz:yes>\n",
       "PREFIX franzOption_memoryLimit: <franz:80g>\n",
       "PREFIX franzOption_queryTimeout: <franz:600>\n",
       "PREFIX franzOption_logQuery: <franz:yes>\n",
       "PREFIX franzOption_memoryExhaustionWarningPercentage: <franz:90.0>\n",
       "\n",
       "SELECT DISTINCT ?angioSubs ?partProtId ?intProtId\n",
       "\n",
       "WHERE\n",
       "{\n",
       "   # VEGF - angiogenesis GOBP/subclasses, the proteins that participate in those GOBPs, and their protein-protein interactions .\n",
       "   # select angiogenesis GOBPs and its subclasses that are in the OBO namespace .\n",
       "   {\n",
       "      \n",
       "      SELECT ?angioSubs\n",
       "      {\n",
       "         # subclasses of [:obo :GO_0001525] .\n",
       "         ?angioSubs rdfs:subClassOf* obo:GO_0001525 .\n",
       "         ?angioSubs oboMeta:hasOBONamespace ?OBONamespace .\n",
       "      }\n",
       "   }\n",
       "   # restriction only want human proteins that participate in these GOBPs .\n",
       "   {\n",
       "      \n",
       "      SELECT ?protClass ?angioSubs\n",
       "      {\n",
       "         # proteins that participate in a subclass .\n",
       "         ?anonSubclass rdfs:subClassOf ?angioSubs .\n",
       "         ?anonSubclass rdfs:subClassOf ?protRest .\n",
       "         ?protRest rdf:type owl:Restriction .\n",
       "         ?protRest owl:onProperty obo:RO_0000057 .\n",
       "         ?protRest owl:someValuesFrom ?protSub .\n",
       "         ?protSub rdfs:subClassOf ?protClass .\n",
       "         ?protClass rdfs:subClassOf* obo:CHEBI_36080 .\n",
       "      }\n",
       "   }\n",
       "   ?partProtId obo:IAO_0000219 ?protClass .\n",
       "   {\n",
       "      \n",
       "      SELECT ?protClass\n",
       "      {\n",
       "         # Gene or Gene Products in_taxon [:obo :NCBITaxon_9606] .\n",
       "         ?protClass rdfs:subClassOf ?taxonrestriction .\n",
       "         ?taxonrestriction owl:onProperty obo:RO_0002162 .\n",
       "         ?taxonrestriction owl:someValuesFrom obo:NCBITaxon_9606 .\n",
       "      }\n",
       "   }\n",
       "   # swisprot ids participating proteins .\n",
       "   {\n",
       "      \n",
       "      SELECT ?partProtId ?partProtName\n",
       "      {\n",
       "         # proteins that have swissprot ids and a name .\n",
       "         ?idField obo:IAO_0000219 ?partProtId .\n",
       "         ?idField kiao:hasTemplate iaouniprot:UniProtFileRecord_primaryAccessionDataField1 .\n",
       "         ?record obo:BFO_0000051 ?idField .\n",
       "         ?record obo:BFO_0000051 ?nameField .\n",
       "         ?nameField kiao:hasTemplate iaouniprot:UniProtFileRecord_nameDataField1 .\n",
       "         ?nameField obo:IAO_0000219 ?partProtName .\n",
       "      }\n",
       "   }\n",
       "   # protein interactions .\n",
       "   {\n",
       "      \n",
       "      SELECT ?protClass ?intProtId\n",
       "      {\n",
       "         ?protSub2 rdfs:subClassOf ?protClass .\n",
       "         ?r_hasp owl:someValuesFrom ?protSub2 .\n",
       "         ?r_hasp rdf:type owl:Restriction .\n",
       "         ?r_hasp owl:onProperty obo:RO_0000057 .\n",
       "         ?interaction rdfs:subClassOf ?r_hasp .\n",
       "         ?interaction rdfs:subClassOf ?rcard .\n",
       "         ?rcard owl:cardinality 2 .\n",
       "         ?rcard owl:onProperty obo:RO_0000057 .\n",
       "         ?interaction rdfs:subClassOf ?r_hasp2 .\n",
       "         ?r_hasp2 rdf:type owl:Restriction .\n",
       "         ?r_hasp2 owl:onProperty obo:RO_0000057 .\n",
       "         ?r_hasp2 owl:someValuesFrom ?protSub3 .\n",
       "         ?protSub3 rdfs:subClassOf ?protClass3 .\n",
       "         ?protClass3 rdfs:subClassOf ?taxonRest .\n",
       "         ?protClass3 rdfs:subClassOf* obo:CHEBI_36080 .\n",
       "         ?intProtId obo:IAO_0000219 ?protClass3 .\n",
       "         FILTER(?protSub3 != ?protSub2) .\n",
       "      }\n",
       "   }\n",
       "   # swisprot ids – participating-protein’s protein interaction partner names .\n",
       "   {\n",
       "      \n",
       "      SELECT ?intProtId ?intProtName\n",
       "      {\n",
       "         # proteins that have swissprot ids and a name .\n",
       "         ?idField obo:IAO_0000219 ?intProtId .\n",
       "         ?idField kiao:hasTemplate iaouniprot:UniProtFileRecord_primaryAccessionDataField1 .\n",
       "         ?record obo:BFO_0000051 ?idField .\n",
       "         ?record obo:BFO_0000051 ?nameField .\n",
       "         ?nameField kiao:hasTemplate iaouniprot:UniProtFileRecord_nameDataField1 .\n",
       "         ?nameField obo:IAO_0000219 ?intProtName .\n",
       "      }\n",
       "   }\n",
       "}"
      ]
     },
     "execution_count": 6,
     "metadata": {},
     "output_type": "execute_result"
    }
   ],
   "source": [
    "(def query2 (boutros.matsu.util/pprint (sparqler.core/sparqler-query)))\n",
    ";; (beakerx :set \"query2\" query2)\n",
    "query2"
   ]
  },
  {
   "cell_type": "code",
   "execution_count": null,
   "metadata": {},
   "outputs": [],
   "source": []
  },
  {
   "cell_type": "markdown",
   "metadata": {},
   "source": [
    "#### SPARQLer WebView"
   ]
  },
  {
   "cell_type": "code",
   "execution_count": 7,
   "metadata": {},
   "outputs": [
    {
     "name": "stdout",
     "output_type": "stream",
     "text": [
      "\"http://amc-tantor.ucdenver.pvt:10035/repositories/kabob-dev#query/d/PREFIX%20franz%3A%20%3Chttp%3A%2F%2Ffranz.com%3E%0APREFIX%20iaouniprot%3A%20%3Chttp%3A%2F%2Fkabob.ucdenver.edu%2Fiao%2Funiprot%2F%3E%0APREFIX%20kiao%3A%20%3Chttp%3A%2F%2Fkabob.ucdenver.edu%2Fiao%2F%3E%0APREFIX%20obo%3A%20%3Chttp%3A%2F%2Fpurl.obolibrary.org%2Fobo%2F%3E%0APREFIX%20oboMeta%3A%20%3Chttp%3A%2F%2Fwww.geneontology.org%2Fformats%2FoboInOwl%23%3E%0APREFIX%20owl%3A%20%3Chttp%3A%2F%2Fwww.w3.org%2F2002%2F07%2Fowl%23%3E%0APREFIX%20rdf%3A%20%3Chttp%3A%2F%2Fwww.w3.org%2F1999%2F02%2F22-rdf-syntax-ns%23%3E%0APREFIX%20rdfs%3A%20%3Chttp%3A%2F%2Fwww.w3.org%2F2000%2F01%2Frdf-schema%23%3E%0APREFIX%20franzOption_clauseReorderer%3A%20%3Cfranz%3Aidentity%3E%0APREFIX%20franzOption_chunkProcessingAllowed%3A%20%3Cfranz%3Ayes%3E%0APREFIX%20franzOption_memoryLimit%3A%20%3Cfranz%3A80g%3E%0APREFIX%20franzOption_queryTimeout%3A%20%3Cfranz%3A600%3E%0APREFIX%20franzOption_logQuery%3A%20%3Cfranz%3Ayes%3E%0APREFIX%20franzOption_memoryExhaustionWarningPercentage%3A%20%3Cfranz%3A90.0%3E%0A%0ASELECT%20DISTINCT%20%3FangioSubs%20%3FpartProtId%20%3FintProtId%0A%0AWHERE%0A%7B%0A%20%20%20%23%20VEGF%20-%20angiogenesis%20GOBP%2Fsubclasses%2C%20the%20proteins%20that%20participate%20in%20those%20GOBPs%2C%20and%20their%20protein-protein%20interactions%20.%0A%20%20%20%23%20select%20angiogenesis%20GOBPs%20and%20its%20subclasses%20that%20are%20in%20the%20OBO%20namespace%20.%0A%20%20%20%7B%0A%20%20%20%20%20%20%0A%20%20%20%20%20%20SELECT%20%3FangioSubs%0A%20%20%20%20%20%20%7B%0A%20%20%20%20%20%20%20%20%20%23%20subclasses%20of%20%5B%3Aobo%20%3AGO_0001525%5D%20.%0A%20%20%20%20%20%20%20%20%20%3FangioSubs%20rdfs%3AsubClassOf*%20obo%3AGO_0001525%20.%0A%20%20%20%20%20%20%20%20%20%3FangioSubs%20oboMeta%3AhasOBONamespace%20%3FOBONamespace%20.%0A%20%20%20%20%20%20%7D%0A%20%20%20%7D%0A%20%20%20%23%20restriction%20only%20want%20human%20proteins%20that%20participate%20in%20these%20GOBPs%20.%0A%20%20%20%7B%0A%20%20%20%20%20%20%0A%20%20%20%20%20%20SELECT%20%3FprotClass%20%3FangioSubs%0A%20%20%20%20%20%20%7B%0A%20%20%20%20%20%20%20%20%20%23%20proteins%20that%20participate%20in%20a%20subclass%20.%0A%20%20%20%20%20%20%20%20%20%3FanonSubclass%20rdfs%3AsubClassOf%20%3FangioSubs%20.%0A%20%20%20%20%20%20%20%20%20%3FanonSubclass%20rdfs%3AsubClassOf%20%3FprotRest%20.%0A%20%20%20%20%20%20%20%20%20%3FprotRest%20rdf%3Atype%20owl%3ARestriction%20.%0A%20%20%20%20%20%20%20%20%20%3FprotRest%20owl%3AonProperty%20obo%3ARO_0000057%20.%0A%20%20%20%20%20%20%20%20%20%3FprotRest%20owl%3AsomeValuesFrom%20%3FprotSub%20.%0A%20%20%20%20%20%20%20%20%20%3FprotSub%20rdfs%3AsubClassOf%20%3FprotClass%20.%0A%20%20%20%20%20%20%20%20%20%3FprotClass%20rdfs%3AsubClassOf*%20obo%3ACHEBI_36080%20.%0A%20%20%20%20%20%20%7D%0A%20%20%20%7D%0A%20%20%20%3FpartProtId%20obo%3AIAO_0000219%20%3FprotClass%20.%0A%20%20%20%7B%0A%20%20%20%20%20%20%0A%20%20%20%20%20%20SELECT%20%3FprotClass%0A%20%20%20%20%20%20%7B%0A%20%20%20%20%20%20%20%20%20%23%20Gene%20or%20Gene%20Products%20in_taxon%20%5B%3Aobo%20%3ANCBITaxon_9606%5D%20.%0A%20%20%20%20%20%20%20%20%20%3FprotClass%20rdfs%3AsubClassOf%20%3Ftaxonrestriction%20.%0A%20%20%20%20%20%20%20%20%20%3Ftaxonrestriction%20owl%3AonProperty%20obo%3ARO_0002162%20.%0A%20%20%20%20%20%20%20%20%20%3Ftaxonrestriction%20owl%3AsomeValuesFrom%20obo%3ANCBITaxon_9606%20.%0A%20%20%20%20%20%20%7D%0A%20%20%20%7D%0A%20%20%20%23%20swisprot%20ids%20participating%20proteins%20.%0A%20%20%20%7B%0A%20%20%20%20%20%20%0A%20%20%20%20%20%20SELECT%20%3FpartProtId%20%3FpartProtName%0A%20%20%20%20%20%20%7B%0A%20%20%20%20%20%20%20%20%20%23%20proteins%20that%20have%20swissprot%20ids%20and%20a%20name%20.%0A%20%20%20%20%20%20%20%20%20%3FidField%20obo%3AIAO_0000219%20%3FpartProtId%20.%0A%20%20%20%20%20%20%20%20%20%3FidField%20kiao%3AhasTemplate%20iaouniprot%3AUniProtFileRecord_primaryAccessionDataField1%20.%0A%20%20%20%20%20%20%20%20%20%3Frecord%20obo%3ABFO_0000051%20%3FidField%20.%0A%20%20%20%20%20%20%20%20%20%3Frecord%20obo%3ABFO_0000051%20%3FnameField%20.%0A%20%20%20%20%20%20%20%20%20%3FnameField%20kiao%3AhasTemplate%20iaouniprot%3AUniProtFileRecord_nameDataField1%20.%0A%20%20%20%20%20%20%20%20%20%3FnameField%20obo%3AIAO_0000219%20%3FpartProtName%20.%0A%20%20%20%20%20%20%7D%0A%20%20%20%7D%0A%20%20%20%23%20protein%20interactions%20.%0A%20%20%20%7B%0A%20%20%20%20%20%20%0A%20%20%20%20%20%20SELECT%20%3FprotClass%20%3FintProtId%0A%20%20%20%20%20%20%7B%0A%20%20%20%20%20%20%20%20%20%3FprotSub2%20rdfs%3AsubClassOf%20%3FprotClass%20.%0A%20%20%20%20%20%20%20%20%20%3Fr_hasp%20owl%3AsomeValuesFrom%20%3FprotSub2%20.%0A%20%20%20%20%20%20%20%20%20%3Fr_hasp%20rdf%3Atype%20owl%3ARestriction%20.%0A%20%20%20%20%20%20%20%20%20%3Fr_hasp%20owl%3AonProperty%20obo%3ARO_0000057%20.%0A%20%20%20%20%20%20%20%20%20%3Finteraction%20rdfs%3AsubClassOf%20%3Fr_hasp%20.%0A%20%20%20%20%20%20%20%20%20%3Finteraction%20rdfs%3AsubClassOf%20%3Frcard%20.%0A%20%20%20%20%20%20%20%20%20%3Frcard%20owl%3Acardinality%202%20.%0A%20%20%20%20%20%20%20%20%20%3Frcard%20owl%3AonProperty%20obo%3ARO_0000057%20.%0A%20%20%20%20%20%20%20%20%20%3Finteraction%20rdfs%3AsubClassOf%20%3Fr_hasp2%20.%0A%20%20%20%20%20%20%20%20%20%3Fr_hasp2%20rdf%3Atype%20owl%3ARestriction%20.%0A%20%20%20%20%20%20%20%20%20%3Fr_hasp2%20owl%3AonProperty%20obo%3ARO_0000057%20.%0A%20%20%20%20%20%20%20%20%20%3Fr_hasp2%20owl%3AsomeValuesFrom%20%3FprotSub3%20.%0A%20%20%20%20%20%20%20%20%20%3FprotSub3%20rdfs%3AsubClassOf%20%3FprotClass3%20.%0A%20%20%20%20%20%20%20%20%20%3FprotClass3%20rdfs%3AsubClassOf%20%3FtaxonRest%20.%0A%20%20%20%20%20%20%20%20%20%3FprotClass3%20rdfs%3AsubClassOf*%20obo%3ACHEBI_36080%20.%0A%20%20%20%20%20%20%20%20%20%3FintProtId%20obo%3AIAO_0000219%20%3FprotClass3%20.%0A%20%20%20%20%20%20%20%20%20FILTER%28%3FprotSub3%20%21%3D%20%3FprotSub2%29%20.%0A%20%20%20%20%20%20%7D%0A%20%20%20%7D%0A%20%20%20%23%20swisprot%20ids%20%E2%80%93%20participating-protein%E2%80%99s%20protein%20interaction%20partner%20names%20.%0A%20%20%20%7B%0A%20%20%20%20%20%20%0A%20%20%20%20%20%20SELECT%20%3FintProtId%20%3FintProtName%0A%20%20%20%20%20%20%7B%0A%20%20%20%20%20%20%20%20%20%23%20proteins%20that%20have%20swissprot%20ids%20and%20a%20name%20.%0A%20%20%20%20%20%20%20%20%20%3FidField%20obo%3AIAO_0000219%20%3FintProtId%20.%0A%20%20%20%20%20%20%20%20%20%3FidField%20kiao%3AhasTemplate%20iaouniprot%3AUniProtFileRecord_primaryAccessionDataField1%20.%0A%20%20%20%20%20%20%20%20%20%3Frecord%20obo%3ABFO_0000051%20%3FidField%20.%0A%20%20%20%20%20%20%20%20%20%3Frecord%20obo%3ABFO_0000051%20%3FnameField%20.%0A%20%20%20%20%20%20%20%20%20%3FnameField%20kiao%3AhasTemplate%20iaouniprot%3AUniProtFileRecord_nameDataField1%20.%0A%20%20%20%20%20%20%20%20%20%3FnameField%20obo%3AIAO_0000219%20%3FintProtName%20.%0A%20%20%20%20%20%20%7D%0A%20%20%20%7D%0A%7D\"\r\n"
     ]
    },
    {
     "ename": "java.io.IOException",
     "evalue": " Cannot run program \"/usr/bin/xdg-open\"",
     "output_type": "error",
     "traceback": [
      "\u001b[0;31mjava.io.IOException: Cannot run program \"/usr/bin/xdg-open\": CreateProcess error=2, The system cannot find the file specified",
      "\u001b[0;31m\tat java.lang.ProcessBuilder.start(ProcessBuilder.java:1048)",
      "\u001b[0;31m\tat java.lang.Runtime.exec(Runtime.java:620)",
      "\u001b[0;31m\tat clojure.java.shell$sh.invokeStatic(shell.clj:113)",
      "\u001b[0;31m\tat clojure.java.browse$browse_url.invokeStatic(browse.clj:74)",
      "\u001b[0;31m\tat clojure.java.browse$browse_url.invoke(browse.clj:66)",
      "\u001b[0;31m\tat sparqler.core$webview_query.invokeStatic(core.clj:63)",
      "\u001b[0;31m\tat sparqler.core$webview_query.invoke(core.clj:59)",
      "\u001b[0;31m\tat clojure.lang.AFn.applyToHelper(AFn.java:154)",
      "\u001b[0;31m\tat clojure.lang.AFn.applyTo(AFn.java:144)",
      "\u001b[0;31m\tat clojure.lang.Compiler$InvokeExpr.eval(Compiler.java:3652)",
      "\u001b[0;31m\tat clojure.lang.Compiler$DefExpr.eval(Compiler.java:451)",
      "\u001b[0;31m\tat clojure.lang.Compiler.eval(Compiler.java:6932)",
      "\u001b[0;31m\tat clojure.lang.Compiler.load(Compiler.java:7379)",
      "\u001b[0;31m\tat clojure.lang.Compiler.load(Compiler.java:7326)",
      "\u001b[0;31m\tat clojure.core$load_reader.invokeStatic(core.clj:3957)",
      "\u001b[0;31m\tat clojure.core$load_string.invokeStatic(core.clj:3959)",
      "\u001b[0;31m\tat clojure.core$load_string.invoke(core.clj:3959)",
      "\u001b[0;31m\tat beaker_clojure_shell_ff6c61f1_ce3e_48f1_a1ee_f1ebfd4da9c1$run_str_ff6c61f1_ce3e_48f1_a1ee_f1ebfd4da9c1.invokeStatic(Unknown Source)",
      "\u001b[0;31m\tat beaker_clojure_shell_ff6c61f1_ce3e_48f1_a1ee_f1ebfd4da9c1$run_str_ff6c61f1_ce3e_48f1_a1ee_f1ebfd4da9c1.invoke(Unknown Source)",
      "\u001b[0;31m\tat clojure.lang.Var.invoke(Var.java:379)",
      "\u001b[0;31m\tat com.twosigma.beakerx.clojure.evaluator.ClojureEvaluator.runCode(ClojureEvaluator.java:116)",
      "\u001b[0;31m\tat com.twosigma.beakerx.clojure.evaluator.ClojureCodeRunner.run(ClojureCodeRunner.java:47)",
      "\u001b[0;31m\tat java.util.concurrent.Executors$RunnableAdapter.call(Executors.java:511)",
      "\u001b[0;31m\tat java.util.concurrent.FutureTask.run(FutureTask.java:266)",
      "\u001b[0;31m\tat java.util.concurrent.ThreadPoolExecutor.runWorker(ThreadPoolExecutor.java:1142)",
      "\u001b[0;31m\tat java.util.concurrent.ThreadPoolExecutor$Worker.run(ThreadPoolExecutor.java:617)",
      "\u001b[0;31m\tat java.lang.Thread.run(Thread.java:745)",
      "\u001b[0;31mCaused by: java.io.IOException: CreateProcess error=2, The system cannot find the file specified",
      "\u001b[0;31m\tat java.lang.ProcessImpl.create(Native Method)",
      "\u001b[0;31m\tat java.lang.ProcessImpl.<init>(ProcessImpl.java:386)",
      "\u001b[0;31m\tat java.lang.ProcessImpl.start(ProcessImpl.java:137)",
      "\u001b[0;31m\tat java.lang.ProcessBuilder.start(ProcessBuilder.java:1029)",
      "\u001b[0;31m\t... 26 more"
     ]
    }
   ],
   "source": [
    "(def query2-url (webview-query query2))"
   ]
  },
  {
   "cell_type": "markdown",
   "metadata": {},
   "source": [
    "#### SPARQLer JSON Response"
   ]
  },
  {
   "cell_type": "code",
   "execution_count": 9,
   "metadata": {},
   "outputs": [
    {
     "ename": "java.lang.RuntimeException",
     "evalue": " No such namespace",
     "output_type": "error",
     "traceback": [
      "\u001b[0;31mjava.lang.RuntimeException: No such namespace: QueryExecutionFactory",
      "\u001b[0;31m\tat clojure.lang.Util.runtimeException(Util.java:221)",
      "\u001b[0;31m\tat clojure.lang.Compiler.resolveIn(Compiler.java:7134)",
      "\u001b[0;31m\tat clojure.lang.Compiler.resolve(Compiler.java:7108)",
      "\u001b[0;31m\tat clojure.lang.Compiler.analyzeSymbol(Compiler.java:7069)",
      "\u001b[0;31m\tat clojure.lang.Compiler.analyze(Compiler.java:6648)",
      "\u001b[0;31m\tat clojure.lang.Compiler.analyze(Compiler.java:6625)",
      "\u001b[0;31m\tat clojure.lang.Compiler$InvokeExpr.parse(Compiler.java:3766)",
      "\u001b[0;31m\tat clojure.lang.Compiler.analyzeSeq(Compiler.java:6870)",
      "\u001b[0;31m\tat clojure.lang.Compiler.analyze(Compiler.java:6669)",
      "\u001b[0;31m\tat clojure.lang.Compiler.access$300(Compiler.java:38)",
      "\u001b[0;31m\tat clojure.lang.Compiler$LetExpr$Parser.parse(Compiler.java:6269)",
      "\u001b[0;31m\tat clojure.lang.Compiler.analyzeSeq(Compiler.java:6868)",
      "\u001b[0;31m\tat clojure.lang.Compiler.analyze(Compiler.java:6669)",
      "\u001b[0;31m\tat clojure.lang.Compiler.analyze(Compiler.java:6625)",
      "\u001b[0;31m\tat clojure.lang.Compiler$BodyExpr$Parser.parse(Compiler.java:6001)",
      "\u001b[0;31m\tat clojure.lang.Compiler$FnMethod.parse(Compiler.java:5380)",
      "\u001b[0;31m\tat clojure.lang.Compiler$FnExpr.parse(Compiler.java:3972)",
      "\u001b[0;31m\tat clojure.lang.Compiler.analyzeSeq(Compiler.java:6866)",
      "\u001b[0;31m\tat clojure.lang.Compiler.analyze(Compiler.java:6669)",
      "\u001b[0;31m\tat clojure.lang.Compiler.analyze(Compiler.java:6625)",
      "\u001b[0;31m\tat clojure.lang.Compiler$InvokeExpr.parse(Compiler.java:3766)",
      "\u001b[0;31m\tat clojure.lang.Compiler.analyzeSeq(Compiler.java:6870)",
      "\u001b[0;31m\tat clojure.lang.Compiler.analyze(Compiler.java:6669)",
      "\u001b[0;31m\tat clojure.lang.Compiler.analyze(Compiler.java:6625)",
      "\u001b[0;31m\tat clojure.lang.Compiler$LetExpr$Parser.parse(Compiler.java:6231)",
      "\u001b[0;31m\tat clojure.lang.Compiler.analyzeSeq(Compiler.java:6868)",
      "\u001b[0;31m\tat clojure.lang.Compiler.analyze(Compiler.java:6669)",
      "\u001b[0;31m\tat clojure.lang.Compiler.analyzeSeq(Compiler.java:6856)",
      "\u001b[0;31m\tat clojure.lang.Compiler.analyze(Compiler.java:6669)",
      "\u001b[0;31m\tat clojure.lang.Compiler.analyzeSeq(Compiler.java:6856)",
      "\u001b[0;31m\tat clojure.lang.Compiler.analyze(Compiler.java:6669)",
      "\u001b[0;31m\tat clojure.lang.Compiler.access$300(Compiler.java:38)",
      "\u001b[0;31m\tat clojure.lang.Compiler$DefExpr$Parser.parse(Compiler.java:589)",
      "\u001b[0;31m\tat clojure.lang.Compiler.analyzeSeq(Compiler.java:6868)",
      "\u001b[0;31m\tat clojure.lang.Compiler.analyze(Compiler.java:6669)",
      "\u001b[0;31m\tat clojure.lang.Compiler.analyze(Compiler.java:6625)",
      "\u001b[0;31m\tat clojure.lang.Compiler.eval(Compiler.java:6931)",
      "\u001b[0;31m\tat clojure.lang.Compiler.load(Compiler.java:7379)",
      "\u001b[0;31m\tat clojure.lang.Compiler.load(Compiler.java:7326)",
      "\u001b[0;31m\tat clojure.core$load_reader.invokeStatic(core.clj:3957)",
      "\u001b[0;31m\tat clojure.core$load_string.invokeStatic(core.clj:3959)",
      "\u001b[0;31m\tat clojure.core$load_string.invoke(core.clj:3959)",
      "\u001b[0;31m\tat beaker_clojure_shell_ff6c61f1_ce3e_48f1_a1ee_f1ebfd4da9c1$run_str_ff6c61f1_ce3e_48f1_a1ee_f1ebfd4da9c1.invokeStatic(Unknown Source)",
      "\u001b[0;31m\tat beaker_clojure_shell_ff6c61f1_ce3e_48f1_a1ee_f1ebfd4da9c1$run_str_ff6c61f1_ce3e_48f1_a1ee_f1ebfd4da9c1.invoke(Unknown Source)",
      "\u001b[0;31m\tat clojure.lang.Var.invoke(Var.java:379)",
      "\u001b[0;31m\tat com.twosigma.beakerx.clojure.evaluator.ClojureEvaluator.runCode(ClojureEvaluator.java:116)",
      "\u001b[0;31m\tat com.twosigma.beakerx.clojure.evaluator.ClojureCodeRunner.run(ClojureCodeRunner.java:47)",
      "\u001b[0;31m\tat java.util.concurrent.Executors$RunnableAdapter.call(Executors.java:511)",
      "\u001b[0;31m\tat java.util.concurrent.FutureTask.run(FutureTask.java:266)",
      "\u001b[0;31m\tat java.util.concurrent.ThreadPoolExecutor.runWorker(ThreadPoolExecutor.java:1142)",
      "\u001b[0;31m\tat java.util.concurrent.ThreadPoolExecutor$Worker.run(ThreadPoolExecutor.java:617)",
      "\u001b[0;31m\tat java.lang.Thread.run(Thread.java:745)"
     ]
    }
   ],
   "source": [
    "(def qexec2 (doto (QueryExecutionFactory/sparqlService (get kabob :endpoint) (beakerx :get \"query2\")) (.setBasicAuthentication (get kabob :user) (char-array (get kabob :pass)))))\n",
    ";; (beakerx :set \"qexec2\" (str qexec2))"
   ]
  },
  {
   "cell_type": "code",
   "execution_count": null,
   "metadata": {},
   "outputs": [],
   "source": [
    "(import java.net.URI\n",
    "           [java.net URLEncoder URLDecoder])\n",
    "(def url2 (str \"http://amc-tantor.ucdenver.pvt:10035/repositories/kabob-dev?query=\"\n",
    "                (clojure.string/replace (URLEncoder/encode query2 \"UTF-8\") \"+\" \"%20\")))\n",
    " (clojure.java.browse/browse-url url2)\n",
    " (beakerx :set \"url2\" url2)"
   ]
  },
  {
   "cell_type": "code",
   "execution_count": null,
   "metadata": {},
   "outputs": [],
   "source": [
    "%%javascript\n",
    "beakerx.url2"
   ]
  },
  {
   "cell_type": "code",
   "execution_count": null,
   "metadata": {},
   "outputs": [],
   "source": [
    "%%javascript\n",
    "var xhr = new XMLHttpRequest();\n",
    "xhr.open('GET', beakerx.url2, false);\n",
    "xhr.send();\n",
    "print(xhr.responseText);"
   ]
  },
  {
   "cell_type": "code",
   "execution_count": null,
   "metadata": {},
   "outputs": [],
   "source": [
    "(def result2 (.execSelect qexec2))"
   ]
  },
  {
   "cell_type": "code",
   "execution_count": null,
   "metadata": {},
   "outputs": [],
   "source": [
    "(def outputStream (ByteArrayOutputStream.))\n",
    "(ResultSetFormatter/outputAsJSON outputStream result2)\n",
    "(def json2 (String. (.toByteArray outputStream)))\n",
    "(beakerx :set \"json2\" json2)"
   ]
  },
  {
   "cell_type": "code",
   "execution_count": null,
   "metadata": {},
   "outputs": [],
   "source": [
    "%%javascript\n",
    "JSON.parse(beakerx.json1).results.bindings.length"
   ]
  },
  {
   "cell_type": "markdown",
   "metadata": {},
   "source": [
    "#### diff Manual vs SPARQLer"
   ]
  },
  {
   "cell_type": "code",
   "execution_count": null,
   "metadata": {},
   "outputs": [],
   "source": [
    "%%html\n",
    "<pre id=\"display\"></pre>"
   ]
  },
  {
   "cell_type": "code",
   "execution_count": null,
   "metadata": {},
   "outputs": [],
   "source": [
    "%%javascript\n",
    "document.getElementById(\"display\").innerHTML = \"\";\n",
    "\n",
    "var one = beakerx.query1,\n",
    "    other = beakerx.query2,\n",
    "    color = 'blue',\n",
    "    span = null;\n",
    "\n",
    "var diff = JsDiff.diffChars(one, other),\n",
    "    display = document.getElementById('display'),\n",
    "    fragment = document.createDocumentFragment();\n",
    "\n",
    "diff.forEach(function(part){\n",
    "  // green for additions, red for deletions\n",
    "  // grey for common parts\n",
    "  color = part.added ? 'green' :\n",
    "    part.removed ? 'red' : 'grey';\n",
    "  span = document.createElement('span');\n",
    "  span.style.color = color;\n",
    "  span.appendChild(document\n",
    "    .createTextNode(part.value));\n",
    "  fragment.appendChild(span);\n",
    "});\n",
    "\n",
    "display.appendChild(fragment);"
   ]
  },
  {
   "cell_type": "markdown",
   "metadata": {},
   "source": [
    "#### HashMap response"
   ]
  },
  {
   "cell_type": "code",
   "execution_count": null,
   "metadata": {},
   "outputs": [],
   "source": [
    "(def result2 (kabob-query (beakerx :get \"query2\")))"
   ]
  },
  {
   "cell_type": "code",
   "execution_count": null,
   "metadata": {},
   "outputs": [],
   "source": [
    "(def outputStream (ByteArrayOutputStream.))\n",
    "(ResultSetFormatter/outputAsJSON outputStream results)\n",
    "(def json (String. (.toByteArray outputStream)))\n",
    "(beakerx :set \"resultjson\" json)"
   ]
  },
  {
   "cell_type": "code",
   "execution_count": null,
   "metadata": {},
   "outputs": [],
   "source": [
    "(webview-query (beakerx :get \"query2\"))"
   ]
  },
  {
   "cell_type": "code",
   "execution_count": null,
   "metadata": {},
   "outputs": [],
   "source": []
  }
 ],
 "metadata": {
  "kernelspec": {
   "display_name": "Python 3",
   "language": "python",
   "name": "python3"
  },
  "language_info": {
   "codemirror_mode": "Clojure",
   "file_extension": ".clj",
   "mimetype": "text/x-clojure",
   "name": "Clojure",
   "nbconverter_exporter": "",
   "version": "1.7"
  }
 },
 "nbformat": 4,
 "nbformat_minor": 2
}
