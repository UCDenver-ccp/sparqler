{
 "cells": [
  {
   "cell_type": "markdown",
   "metadata": {},
   "source": [
    "# Appendix C, Example 3"
   ]
  },
  {
   "cell_type": "markdown",
   "metadata": {},
   "source": [
    "## Introduction"
   ]
  },
  {
   "cell_type": "code",
   "execution_count": null,
   "metadata": {},
   "outputs": [],
   "source": [
    "(refer 'sparqler.core)\n",
    "(assert kabob)"
   ]
  },
  {
   "cell_type": "markdown",
   "metadata": {},
   "source": [
    "## Query"
   ]
  },
  {
   "cell_type": "markdown",
   "metadata": {},
   "source": [
    "### Manual SPARQL"
   ]
  },
  {
   "cell_type": "markdown",
   "metadata": {},
   "source": [
    "The following cell will be stored in the beakerx.query1 variable...."
   ]
  },
  {
   "cell_type": "code",
   "execution_count": null,
   "metadata": {},
   "outputs": [],
   "source": [
    "%%sql\n",
    "# find six pairs of proteins that have been localized to the \n",
    "#  same cellular location and that are known to interact.\n",
    "#\n",
    "PREFIX franzOption_clauseReorderer: <franz:identity>\n",
    "PREFIX rdfs: <http://www.w3.org/2000/01/rdf-schema#>\n",
    "PREFIX owl: <http://www.w3.org/2002/07/owl#>\n",
    "PREFIX obo: <http://purl.obolibrary.org/obo/>\n",
    "PREFIX kbio: <http://kabob.ucdenver.edu/bio/>\n",
    "\n",
    "SELECT ?gp1 ?gp2 ?locationName\n",
    "WHERE {\n",
    "\n",
    "## get localization events\n",
    "?loc1 rdfs:subClassOf obo:GO_0051179 . #localization\n",
    "\n",
    "## get the entity localized\n",
    "?loc1 rdfs:subClassOf ?gp1Loc .\n",
    "?gp1Loc owl:onProperty obo:RO_0002313 . # RO:transports or maintains localization of .\n",
    "?gp1Loc owl:someValuesFrom ?gp1_sc .\n",
    "?gp1_sc rdfs:subClassOf ?gp1 .\n",
    "?gp1_other_sc rdfs:subClassOf ?gp1 .\n",
    "\n",
    "## get the location\n",
    "?loc1 rdfs:subClassOf ?to .\n",
    "?to owl:onProperty obo:RO_0002339 . # RO:has target end location\n",
    "?to owl:someValuesFrom ?location_sc .\n",
    "\n",
    "## name of the location\n",
    "?location_sc rdfs:subClassOf ?location .\n",
    "?location rdfs:label ?locationName .\n",
    "\n",
    "## events the first entity participates in\n",
    "?gp1Participant owl:someValuesFrom ?gp1_other_sc .\n",
    "?gp1Participant owl:onProperty obo:RO_0000057 .\n",
    "?interaction rdfs:subClassOf ?gp1Participant .\n",
    "\n",
    "## look at only interactions\n",
    "?interaction rdfs:subClassOf obo:MI_0407 . # interaction\n",
    "\n",
    "## get all the other participants in those interactions\n",
    "?interaction rdfs:subClassOf ?gp2Participant.\n",
    "FILTER (?gp1Participant != ?gp2Participant) . # ensure different\n",
    "\n",
    "## make sure one is the second entity\n",
    "?gp2Participant owl:onProperty obo:RO_0000057 . # RO:has_participant\n",
    "?gp2Participant owl:someValuesFrom ?gp2_sc .\n",
    "?gp2_sc rdfs:subClassOf ?gp2 .\n",
    "FILTER (?gp1 != ?gp2)\n",
    "\n",
    "## get the potentially “co-localized” entity\n",
    "?gp2_other_sc rdfs:subClassOf ?gp2 .\n",
    "?gp2Loc owl:someValuesFrom ?gp2_other_sc .\n",
    "?gp2Loc owl:onProperty obo:RO_0002313 . # RO:transports or maintains localization of .\n",
    "?loc2 rdfs:subClassOf ?gp2Loc .\n",
    "?loc2 rdfs:subClassOf obo:GO_0051179 . #localization\n",
    "FILTER (?loc1 != ?loc2) . # ensure different\n",
    "\n",
    "## find a second distinct localization to the same place\n",
    "?loc2 rdfs:subClassOf ?to2 .\n",
    "?to2 owl:onProperty obo:RO_0002339 . # RO:has target end location\n",
    "?to2 owl:someValuesFrom ?location_sc2 .\n",
    "?location_sc2 rdfs:subClassOf ?location .\n",
    "\n",
    "}"
   ]
  },
  {
   "cell_type": "code",
   "execution_count": null,
   "metadata": {},
   "outputs": [],
   "source": [
    "%%javascript\n",
    "beakerx.query1 = beakerx.getCodeCells('query1')[0].code"
   ]
  },
  {
   "cell_type": "markdown",
   "metadata": {},
   "source": [
    "### SPARQLer"
   ]
  },
  {
   "cell_type": "markdown",
   "metadata": {},
   "source": [
    "#### Step 1: Convert to clojure and define constants"
   ]
  },
  {
   "cell_type": "code",
   "execution_count": null,
   "metadata": {},
   "outputs": [],
   "source": [
    "(in-ns 'sparqler.core)\n",
    "\n",
    "(defn all-gene-products [geneproduct gorgporv]\n",
    "  (list geneproduct rdfs:subClassOf* gorgporv))\n",
    "\n",
    "(defn interactions-geneproduct-participate-in [participant geneproduct interactions]\n",
    "  (subquery [participant geneproduct interactions]\n",
    "    participant owl:someValuesFrom geneproduct \\.\n",
    "    participant owl:onProperty RO:has_participant \\. ;# RO:has_participant\n",
    "    interactions rdfs:subClassOf participant \\.))\n",
    "            "
   ]
  },
  {
   "cell_type": "code",
   "execution_count": null,
   "metadata": {},
   "outputs": [],
   "source": [
    "(in-ns 'sparqler.core)\n",
    "\n",
    "(defquery KaBOBC3 []\n",
    " # find six pairs of proteins that have been localized to the \n",
    "#  same cellular location and that are known to interact.\n",
    "#\n",
    "PREFIX franzOption_clauseReorderer: <franz:identity>\n",
    "PREFIX rdfs: <http://www.w3.org/2000/01/rdf-schema#>\n",
    "PREFIX owl: <http://www.w3.org/2002/07/owl#>\n",
    "PREFIX obo: <http://purl.obolibrary.org/obo/>\n",
    "PREFIX kbio: <http://kabob.ucdenver.edu/bio/>\n",
    "\n",
    "SELECT ?gp1 ?gp2 ?locationName\n",
    "WHERE {\n",
    "\n",
    "## get localization events\n",
    "?loc1 rdfs:subClassOf obo:GO_0051179 . #localization\n",
    "\n",
    "## get the entity localized\n",
    "?loc1 rdfs:subClassOf ?gp1Loc .\n",
    "?gp1Loc owl:onProperty obo:RO_0002313 . # RO:transports or maintains localization of .\n",
    "?gp1Loc owl:someValuesFrom ?gp1_sc .\n",
    "?gp1_sc rdfs:subClassOf ?gp1 .\n",
    "?gp1_other_sc rdfs:subClassOf ?gp1 .\n",
    "\n",
    "## get the location\n",
    "?loc1 rdfs:subClassOf ?to .\n",
    "?to owl:onProperty obo:RO_0002339 . # RO:has target end location\n",
    "?to owl:someValuesFrom ?location_sc .\n",
    "\n",
    "## name of the location\n",
    "?location_sc rdfs:subClassOf ?location .\n",
    "?location rdfs:label ?locationName .\n",
    "\n",
    "## events the first entity participates in\n",
    "?gp1Participant owl:someValuesFrom ?gp1_other_sc .\n",
    "?gp1Participant owl:onProperty obo:RO_0000057 .\n",
    "?interaction rdfs:subClassOf ?gp1Participant .\n",
    "\n",
    "## look at only interactions\n",
    "?interaction rdfs:subClassOf obo:MI_0407 . # interaction\n",
    "\n",
    "## get all the other participants in those interactions\n",
    "?interaction rdfs:subClassOf ?gp2Participant.\n",
    "FILTER (?gp1Participant != ?gp2Participant) . # ensure different\n",
    "\n",
    "## make sure one is the second entity\n",
    "?gp2Participant owl:onProperty obo:RO_0000057 . # RO:has_participant\n",
    "?gp2Participant owl:someValuesFrom ?gp2_sc .\n",
    "?gp2_sc rdfs:subClassOf ?gp2 .\n",
    "FILTER (?gp1 != ?gp2)\n",
    "\n",
    "## get the potentially “co-localized” entity\n",
    "?gp2_other_sc rdfs:subClassOf ?gp2 .\n",
    "?gp2Loc owl:someValuesFrom ?gp2_other_sc .\n",
    "?gp2Loc owl:onProperty obo:RO_0002313 . # RO:transports or maintains localization of .\n",
    "?loc2 rdfs:subClassOf ?gp2Loc .\n",
    "?loc2 rdfs:subClassOf obo:GO_0051179 . #localization\n",
    "FILTER (?loc1 != ?loc2) . # ensure different\n",
    "\n",
    "## find a second distinct localization to the same place\n",
    "?loc2 rdfs:subClassOf ?to2 .\n",
    "?to2 owl:onProperty obo:RO_0002339 . # RO:has target end location\n",
    "?to2 owl:someValuesFrom ?location_sc2 .\n",
    "?location_sc2 rdfs:subClassOf ?location .\n",
    "\n",
    "}\n",
    "  )\n"
   ]
  },
  {
   "cell_type": "code",
   "execution_count": null,
   "metadata": {},
   "outputs": [],
   "source": [
    "(#'sparqler.core/KaBOBC3)"
   ]
  },
  {
   "cell_type": "code",
   "execution_count": null,
   "metadata": {},
   "outputs": [],
   "source": [
    "(beakerx :set \"query2\" (#'sparqler.core/KaBOBC3))"
   ]
  },
  {
   "cell_type": "code",
   "execution_count": null,
   "metadata": {},
   "outputs": [],
   "source": [
    "%%html\n",
    "<pre id=\"display\"></pre>"
   ]
  },
  {
   "cell_type": "code",
   "execution_count": null,
   "metadata": {},
   "outputs": [],
   "source": [
    "%%javascript\n",
    "document.getElementById(\"display\").innerHTML = \"\";\n",
    "\n",
    "var one = beakerx.query1,\n",
    "    other = beakerx.query2,\n",
    "    color = 'blue',\n",
    "    span = null;\n",
    "\n",
    "var diff = JsDiff.diffWords(one, other, {ignoreWhitespace:true, newlineIsToken: true}),\n",
    "    display = document.getElementById('display'),\n",
    "    fragment = document.createDocumentFragment();\n",
    "\n",
    "diff.forEach(function(part){\n",
    "  // green for additions, red for deletions\n",
    "  // grey for common parts\n",
    "  color = part.added ? 'green' :\n",
    "    part.removed ? 'red' : 'grey';\n",
    "  span = document.createElement('span');\n",
    "  span.style.color = color;\n",
    "  span.appendChild(document\n",
    "    .createTextNode(part.value));\n",
    "  fragment.appendChild(span);\n",
    "});\n",
    "\n",
    "display.appendChild(fragment);"
   ]
  },
  {
   "cell_type": "code",
   "execution_count": null,
   "metadata": {},
   "outputs": [],
   "source": [
    "(def q (#'sparqler.core/KaBOBC3))\n",
    "q"
   ]
  },
  {
   "cell_type": "code",
   "execution_count": null,
   "metadata": {},
   "outputs": [],
   "source": [
    "(def r (kabob-query q))\n",
    "(clojure.set/rename r {:participant \"participant\"})"
   ]
  },
  {
   "cell_type": "code",
   "execution_count": null,
   "metadata": {},
   "outputs": [],
   "source": [
    "(webview-query q)"
   ]
  },
  {
   "cell_type": "code",
   "execution_count": null,
   "metadata": {},
   "outputs": [],
   "source": []
  }
 ],
 "metadata": {
  "kernelspec": {
   "display_name": "Clojure",
   "language": "clojure",
   "name": "clojure"
  }
 },
 "nbformat": 4,
 "nbformat_minor": 2
}
