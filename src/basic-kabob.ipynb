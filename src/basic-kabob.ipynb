{
 "cells": [
  {
   "cell_type": "code",
   "execution_count": null,
   "metadata": {},
   "outputs": [],
   "source": [
    "%%javascript\n"
   ]
  },
  {
   "cell_type": "code",
   "execution_count": null,
   "metadata": {},
   "outputs": [],
   "source": [
    "(refer 'sparqler.core)\n",
    "kabob"
   ]
  },
  {
   "cell_type": "code",
   "execution_count": null,
   "metadata": {},
   "outputs": [],
   "source": [
    "(def q (localize uniprot:HUMAN_CYC))\n",
    "q"
   ]
  },
  {
   "cell_type": "code",
   "execution_count": null,
   "metadata": {},
   "outputs": [],
   "source": [
    "(def result (kabob-query q))\n",
    "(use '[clojure.pprint :only [print-table]])\n",
    "(print-table result)"
   ]
  },
  {
   "cell_type": "code",
   "execution_count": null,
   "metadata": {},
   "outputs": [],
   "source": [
    "(clojure.set/rename result {:location_class \"location_class\", :location_name \"location_name\"}) "
   ]
  },
  {
   "cell_type": "code",
   "execution_count": null,
   "metadata": {},
   "outputs": [],
   "source": [
    "(def qu (QueryFactory/create q))\n",
    "(QueryExecutionFactory/sparqlService (get kabob :endpoint) q) "
   ]
  },
  {
   "cell_type": "code",
   "execution_count": null,
   "metadata": {},
   "outputs": [],
   "source": [
    "(def qexec (doto (QueryExecutionFactory/sparqlService (get kabob :endpoint) q) (.setBasicAuthentication (get kabob :user) (char-array (get kabob :pass)))))\n",
    "(def results(.execSelect qexec))\n",
    "results"
   ]
  },
  {
   "cell_type": "code",
   "execution_count": null,
   "metadata": {},
   "outputs": [],
   "source": [
    "(def outputStream (ByteArrayOutputStream.))\n",
    "(ResultSetFormatter/outputAsJSON outputStream results)\n",
    "(def json (String. (.toByteArray outputStream)))\n",
    "(beakerx :set \"result\" json)\n",
    "(println json)"
   ]
  },
  {
   "cell_type": "code",
   "execution_count": null,
   "metadata": {},
   "outputs": [],
   "source": [
    "%%javascript\n",
    "function loadCSS(filename){ \n",
    "\n",
    "       var file = document.createElement(\"link\");\n",
    "       file.setAttribute(\"rel\", \"stylesheet\");\n",
    "       file.setAttribute(\"type\", \"text/css\");\n",
    "       file.setAttribute(\"href\", filename);\n",
    "       document.head.appendChild(file);\n",
    "\n",
    "}\n",
    "\n",
    "//just call a function to load a new CSS:\n",
    "loadCSS(\"http://cdn.jsdelivr.net/yasqe/2.11.6/yasqe.min.css\");\n",
    "loadCSS(\"http://yasr.yasgui.org/dist/yasr.min.css\");\n",
    "loadCSS(\"http://yasr.yasgui.org/doc/doc.min.css\");"
   ]
  },
  {
   "cell_type": "code",
   "execution_count": null,
   "metadata": {},
   "outputs": [],
   "source": [
    "%%html\n",
    "<div id=\"yasr\" style=\"width: auto\"></div>"
   ]
  },
  {
   "cell_type": "code",
   "execution_count": null,
   "metadata": {},
   "outputs": [],
   "source": [
    "%%javascript\n",
    "var yasr = YASR(document.getElementById(\"yasr\"));\n",
    "\n",
    "yasr.setResponse(beakerx.result);"
   ]
  }
 ],
 "metadata": {
  "kernelspec": {
   "display_name": "Clojure",
   "language": "clojure",
   "name": "clojure"
  }
 },
 "nbformat": 4,
 "nbformat_minor": 2
}
