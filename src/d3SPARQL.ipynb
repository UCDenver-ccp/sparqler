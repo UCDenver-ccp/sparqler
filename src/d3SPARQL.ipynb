{
 "cells": [
  {
   "cell_type": "code",
   "execution_count": null,
   "metadata": {},
   "outputs": [],
   "source": [
    "%%javascript\n"
   ]
  },
  {
   "cell_type": "markdown",
   "metadata": {},
   "source": [
    "# d3SPARQL\n"
   ]
  },
  {
   "cell_type": "markdown",
   "metadata": {},
   "source": [
    "This notebook explores using d3SPARQL for visualization"
   ]
  },
  {
   "cell_type": "code",
   "execution_count": null,
   "metadata": {},
   "outputs": [],
   "source": [
    "%%clojure\n",
    "(refer 'sparqler.core)\n",
    "(import java.net.URI\n",
    "           [java.net URLEncoder URLDecoder])\n",
    "kabob"
   ]
  },
  {
   "cell_type": "code",
   "execution_count": null,
   "metadata": {
    "init_cell": true
   },
   "outputs": [],
   "source": [
    "%%javascript\n",
    "function loadCSS(filename){ \n",
    "\n",
    "       var file = document.createElement(\"link\");\n",
    "       file.setAttribute(\"rel\", \"stylesheet\");\n",
    "       file.setAttribute(\"type\", \"text/css\");\n",
    "       file.setAttribute(\"href\", filename);\n",
    "       document.head.appendChild(file);\n",
    "\n",
    "}\n",
    "\n",
    "//just call a function to load a new CSS:\n",
    "loadCSS(\"http://cdn.jsdelivr.net/yasqe/2.11.6/yasqe.min.css\");\n",
    "loadCSS(\"http://yasr.yasgui.org/dist/yasr.min.css\");\n",
    "loadCSS(\"http://yasr.yasgui.org/doc/doc.min.css\");"
   ]
  },
  {
   "cell_type": "markdown",
   "metadata": {},
   "source": [
    "## Examples"
   ]
  },
  {
   "cell_type": "markdown",
   "metadata": {},
   "source": [
    "### ForceGraph"
   ]
  },
  {
   "cell_type": "markdown",
   "metadata": {},
   "source": []
  },
  {
   "cell_type": "code",
   "execution_count": null,
   "metadata": {},
   "outputs": [],
   "source": [
    "%%sql\n",
    "select ?s ?p ?o \n",
    "WHERE\n",
    "{\n",
    "{\n",
    "  BIND (\"Morphine\" as ?c) . \n",
    "  ?s ?p1 ?c .\n",
    "  ?s ?p ?o\n",
    "}\n",
    "UNION\n",
    "{\n",
    "  BIND (\"Morphine\" as ?c) . \n",
    "  ?o ?p1 ?c .\n",
    "  ?s ?p ?o\n",
    "}\n",
    "}"
   ]
  },
  {
   "cell_type": "code",
   "execution_count": null,
   "metadata": {},
   "outputs": [],
   "source": [
    "%%javascript\n",
    "beakerx.query = beakerx.getCodeCells('query')[0].code"
   ]
  },
  {
   "cell_type": "code",
   "execution_count": null,
   "metadata": {},
   "outputs": [],
   "source": [
    "%%clojure\n",
    "(def q (beakerx :get \"query\"))\n",
    "(def r (kabob-query q))\n",
    "(beakerx :set \"resultmap\" (clojure.set/rename r {:S \"s\", :P \"p\", :O \"o\"}))"
   ]
  },
  {
   "cell_type": "code",
   "execution_count": null,
   "metadata": {},
   "outputs": [],
   "source": [
    "%%clojure\n",
    "(def qexec (doto (QueryExecutionFactory/sparqlService (get kabob :endpoint) q) (.setBasicAuthentication (get kabob :user) (char-array (get kabob :pass)))))\n",
    "qexec"
   ]
  },
  {
   "cell_type": "code",
   "execution_count": null,
   "metadata": {},
   "outputs": [],
   "source": [
    "%%clojure\n",
    "(def results (.execSelect qexec))\n",
    "(def outputStream (ByteArrayOutputStream.))\n",
    "(ResultSetFormatter/outputAsJSON outputStream results)\n",
    "(def json (String. (.toByteArray outputStream)))\n",
    "(beakerx :set \"resultjson\" json)"
   ]
  },
  {
   "cell_type": "code",
   "execution_count": null,
   "metadata": {},
   "outputs": [],
   "source": [
    "%%html\n",
    "<div id=\"query\" style=\"margin: 10px\">\n",
    "      <h1>d3forcegraph</h1>\n",
    "      <form class=\"form-inline\">\n",
    "        <label>SPARQL endpoint:</label>\n",
    "        <div class=\"input-append\">\n",
    "          <input id=\"endpoint\" class=\"span5\" value=\"http://dbpedia.org/sparql\" type=\"text\">\n",
    "          <button class=\"btn\" type=\"button\" onclick=\"exec()\">Query</button>\n",
    "          <button class=\"btn\" type=\"button\" onclick=\"exec_offline()\">Use cache</button>\n",
    "        </div>\n",
    "      </form>\n",
    "      <textarea id=\"sparql\" class=\"span9\" rows=15 style=\"width:700px;\">\n",
    "# https://en.wikipedia.org/wiki/History_of_programming_languages\n",
    "# https://en.wikipedia.org/wiki/Perl\n",
    "# http://dbpedia.org/page/Perl\n",
    "# http://dbpedia.org/sparql\n",
    "\n",
    "PREFIX rdf: <http://www.w3.org/1999/02/22-rdf-syntax-ns#>\n",
    "PREFIX rdfs: <http://www.w3.org/2000/01/rdf-schema#>\n",
    "PREFIX dbpedia-owl: <http://dbpedia.org/ontology/>\n",
    "PREFIX dbpprop: <http://dbpedia.org/property/>\n",
    "PREFIX dbpedia: <http://dbpedia.org/resource/>\n",
    "\n",
    "SELECT DISTINCT ?lang1 ?lang2 ?lang1label ?lang2label ?lang1value ?lang2value ?lang1year ?lang2year\n",
    "WHERE {\n",
    "  ?lang1 rdf:type dbpedia-owl:ProgrammingLanguage ;\n",
    "         rdfs:label ?lang1name ;\n",
    "         dbpprop:year ?lang1year .\n",
    "  ?lang2 rdf:type dbpedia-owl:ProgrammingLanguage ;\n",
    "         rdfs:label ?lang2name ;\n",
    "         dbpprop:year ?lang2year .\n",
    "  ?lang1 dbpedia-owl:influenced ?lang2 .\n",
    "  FILTER (?lang1 != ?lang2)\n",
    "  FILTER (LANG(?lang1name) = 'en')\n",
    "  FILTER (LANG(?lang2name) = 'en')\n",
    "  BIND (replace(?lang1name, \" .programming language.\", \"\") AS ?lang1label)\n",
    "  BIND (replace(?lang2name, \" .programming language.\", \"\") AS ?lang2label)\n",
    "  FILTER (?lang1year > 1950 AND ?lang1year < 2020)\n",
    "  FILTER (?lang2year > 1950 AND ?lang2year < 2020)\n",
    "  # To render older language larger than newer\n",
    "  BIND ((2020 - ?lang1year) AS ?lang1value)\n",
    "  BIND ((2020 - ?lang2year) AS ?lang2value)\n",
    "}\n",
    "      </textarea>\n",
    "    </div>\n",
    "    <div id=\"result\"></div>"
   ]
  },
  {
   "cell_type": "code",
   "execution_count": null,
   "metadata": {},
   "outputs": [],
   "source": [
    "%%javascript\n",
    "document.getElementById(\"result\").innerHTML = \"\";\n",
    "\n",
    "    function exec() {\n",
    "      console.log(\"exec\")\n",
    "      var endpoint = d3.select(\"#endpoint\").property(\"value\")\n",
    "      var sparql = d3.select(\"#sparql\").property(\"value\")\n",
    "      d3sparql.query(endpoint, sparql, render)\n",
    "    }\n",
    "    function render(json) {\n",
    "      var config = {\n",
    "        \"key1\":   \"s\",       // SPARQL variable name for node1 (optional; default is the 1st variable)\n",
    "        \"key2\":   \"o\",       // SPARQL variable name for node2 (optional; default is the 2nd varibale)\n",
    "        \"label1\": \"s\",  // SPARQL variable name for the label of node1 (optional; default is the 3rd variable)\n",
    "        \"label2\": \"o\",  // SPARQL variable name for the label of node2 (optional; default is the 4th variable)\n",
    "        \"edge1\" : \"p\",\n",
    "        \"radius\": 10,\n",
    "        \"charge\": -500,\n",
    "        \"distance\": 50,\n",
    "        \"width\": 1000,\n",
    "        \"height\": 750,\n",
    "        \"selector\": \"#result\"\n",
    "      }\n",
    "      d3sparql.forcegraph(json, config)\n",
    "      beakerx.json = json\n",
    "    }\n",
    "\n",
    "    function exec_offline() {\n",
    "      d3.json(\"vendor/proglang_pair.json\", render)\n",
    "    }\n",
    "    function toggle() {\n",
    "      d3sparql.toggle()\n",
    "    }\n",
    "\n",
    "render(JSON.parse(beakerx.resultjson))"
   ]
  }
 ],
 "metadata": {
  "kernelspec": {
   "display_name": "Python 2",
   "language": "python",
   "name": "python2"
  }
 },
 "nbformat": 4,
 "nbformat_minor": 2
}
