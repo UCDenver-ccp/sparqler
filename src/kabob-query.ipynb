{
 "cells": [
  {
   "cell_type": "code",
   "execution_count": null,
   "metadata": {},
   "outputs": [],
   "source": [
    "%%javascript\n"
   ]
  },
  {
   "cell_type": "markdown",
   "metadata": {},
   "source": [
    "# Abstract\n"
   ]
  },
  {
   "cell_type": "code",
   "execution_count": null,
   "metadata": {},
   "outputs": [],
   "source": [
    "(refer 'sparqler.core)\n",
    "(import java.net.URI\n",
    "           [java.net URLEncoder URLDecoder])\n",
    "kabob"
   ]
  },
  {
   "cell_type": "code",
   "execution_count": null,
   "metadata": {
    "init_cell": true
   },
   "outputs": [],
   "source": [
    "%%javascript\n",
    "function loadCSS(filename){ \n",
    "\n",
    "       var file = document.createElement(\"link\");\n",
    "       file.setAttribute(\"rel\", \"stylesheet\");\n",
    "       file.setAttribute(\"type\", \"text/css\");\n",
    "       file.setAttribute(\"href\", filename);\n",
    "       document.head.appendChild(file);\n",
    "\n",
    "}\n",
    "\n",
    "//just call a function to load a new CSS:\n",
    "loadCSS(\"http://cdn.jsdelivr.net/yasqe/2.11.6/yasqe.min.css\");\n",
    "loadCSS(\"http://yasr.yasgui.org/dist/yasr.min.css\");\n",
    "loadCSS(\"http://yasr.yasgui.org/doc/doc.min.css\");"
   ]
  },
  {
   "cell_type": "markdown",
   "metadata": {},
   "source": [
    "# Background"
   ]
  },
  {
   "cell_type": "markdown",
   "metadata": {},
   "source": [
    "## AllegroGraph KaBOB Queries"
   ]
  },
  {
   "cell_type": "markdown",
   "metadata": {},
   "source": [
    "### Basic Query"
   ]
  },
  {
   "cell_type": "markdown",
   "metadata": {},
   "source": [
    "#### Basic Query in WebView"
   ]
  },
  {
   "cell_type": "code",
   "execution_count": null,
   "metadata": {},
   "outputs": [],
   "source": [
    "(def simple-query \"SELECT * WHERE {?sub ?pred ?obj}\")\n",
    "(def simple-url (str \"http://amc-tantor.ucdenver.pvt:10035/repositories/kabob-dev#query/d/\"\n",
    "                (clojure.string/replace (URLEncoder/encode (boutros.matsu.util/pprint simple-query) \"UTF-8\") \"+\" \"%20\")))\n",
    "(beakerx :set \"query\" simple-query)\n",
    "(beakerx :set \"url\" simple-url)"
   ]
  },
  {
   "cell_type": "code",
   "execution_count": null,
   "metadata": {},
   "outputs": [],
   "source": [
    "%%html\n",
    "<iframe id=\"simple-iframe\" src=\"http://amc-tantor.ucdenver.pvt:10035/repositories/kabob-dev#query\" width = 100% height = 900></iframe> "
   ]
  },
  {
   "cell_type": "code",
   "execution_count": null,
   "metadata": {},
   "outputs": [],
   "source": [
    "%%javascript\n",
    "document.getElementById('simple-iframe').src = beakerx.url;"
   ]
  },
  {
   "cell_type": "markdown",
   "metadata": {},
   "source": [
    "#### Basic Query in YASQE"
   ]
  },
  {
   "cell_type": "code",
   "execution_count": null,
   "metadata": {},
   "outputs": [],
   "source": [
    "%%html\n",
    "<div id=\"agraph-simple\" style=\"width: auto\"></div>"
   ]
  },
  {
   "cell_type": "code",
   "execution_count": null,
   "metadata": {},
   "outputs": [],
   "source": [
    "%%javascript\n",
    "document.getElementById(\"agraph-simple\").innerHTML = \"\";\n",
    "var yasqe = YASQE(document.getElementById(\"agraph-simple\"), \n",
    "                  {sparql: \n",
    "                   {showQueryButton: true,\n",
    "                    value: beakerx.query,\n",
    "                    endpoint: \"http://amc-tantor.ucdenver.pvt:10035/repositories/kabob-dev/\",\n",
    "                    headers: { \n",
    "                      Authorization: 'secret:secret'\n",
    "                    },\n",
    "                    xhrFields: {\n",
    "                      withCredentials: true\n",
    "                    }}});\n",
    "\n",
    "var yasr = YASR(document.getElementById(\"agraph-simple\"), {\n",
    "\t//this way, the URLs in the results are prettified using the defined prefixes in the query\n",
    "\tgetUsedPrefixes: yasqe.getPrefixesFromQuery\n",
    "});\n",
    "\n",
    "//link both together\n",
    "yasqe.options.sparql.callbacks.complete = yasr.setResponse;"
   ]
  },
  {
   "cell_type": "markdown",
   "metadata": {},
   "source": [
    "This doesn't quite work yet...\n",
    "\n",
    "[Error] Failed to load resource: Preflight response is not successful (kabob-dev, line 0)\n",
    "\n",
    "[Error] XMLHttpRequest cannot load http://amc-tantor.ucdenver.pvt:10035/repositories/kabob-dev/. Preflight response is not successful"
   ]
  },
  {
   "cell_type": "markdown",
   "metadata": {},
   "source": [
    "### Complex Angiogenesis Query"
   ]
  },
  {
   "cell_type": "markdown",
   "metadata": {},
   "source": [
    "#### The Query"
   ]
  },
  {
   "cell_type": "markdown",
   "metadata": {},
   "source": [
    "TODO: Make an SPARQL Language plugin for Beaker"
   ]
  },
  {
   "cell_type": "markdown",
   "metadata": {},
   "source": [
    "#### Webview Query"
   ]
  },
  {
   "cell_type": "code",
   "execution_count": null,
   "metadata": {},
   "outputs": [],
   "source": [
    "%%html\n",
    "<iframe id=\"angio-iframe\" src=\"http://amc-tantor.ucdenver.pvt:10035/repositories/kabob-dev#query/183\" width = 100% height = 900></iframe> "
   ]
  },
  {
   "cell_type": "markdown",
   "metadata": {},
   "source": [
    "Beaker doesn't have a SPARQL language yet, but it does have a SQL..."
   ]
  },
  {
   "cell_type": "code",
   "execution_count": null,
   "metadata": {},
   "outputs": [],
   "source": [
    "%%sql\n",
    "PREFIX obo: <http://purl.obolibrary.org/obo/>\n",
    "PREFIX rdfs: <http://www.w3.org/2000/01/rdf-schema#>\n",
    "PREFIX owl: <http://www.w3.org/2002/07/owl#>\n",
    "PREFIX oboMeta: <http://www.geneontology.org/formats/oboInOwl#>\n",
    "PREFIX kiao: <http://kabob.ucdenver.edu/iao/>\n",
    "PREFIX iaouniprot: <http://kabob.ucdenver.edu/iao/uniprot/>\n",
    "PREFIX franzOption_clauseReorderer: <franz:identity>\n",
    "PREFIX franzOption_chunkProcessingAllowed: <franz:yes>\n",
    "PREFIX franzOption_memoryLimit: <franz:60g>\n",
    "PREFIX franzOption_memoryExhaustionWarningPercentage: <franz:90.0>\n",
    "\n",
    "# VEGF - angiogenesis GOBP/subclasses, the proteins that participate in those GOBPs, and their protein-protein interactions\n",
    "\n",
    "select distinct ?angioSubs ?partProtId ?intProtId {\n",
    "\n",
    "  #select angiogenesis GOBPs and its subclasses that are in the OBO namespace\n",
    "  ?angioSubs rdfs:subClassOf* obo:GO_0001525 . #angiogenesis\n",
    "  ?angioSubs oboMeta:hasOBONamespace ?OBONamespace . #OBO ns (BPs)\n",
    "\n",
    "  #restriction - only want human proteins that participate in these GOBPs\n",
    "  ?anonSubclass rdfs:subClassOf ?angioSubs .\n",
    "  ?anonSubclass rdfs:subClassOf ?protRest .\n",
    "\n",
    "  ?protRest rdf:type owl:Restriction .\n",
    "  ?protRest owl:onProperty obo:RO_0000057 . #has_participant\n",
    "  ?protRest owl:someValuesFrom ?protSub .\n",
    "\n",
    "  ?protSub rdfs:subClassOf ?protClass .\n",
    "  ?protClass rdfs:subClassOf* obo:CHEBI_36080 . #protein\n",
    "  ?partProtId obo:IAO_0000219 ?protClass .\n",
    "\n",
    "  ?protClass rdfs:subClassOf ?taxonRest .\n",
    "  ?taxonRest owl:onProperty obo:RO_0002162 . #in taxon\n",
    "  ?taxonRest owl:someValuesFrom obo:NCBITaxon_9606 . #human\n",
    "\n",
    "  #swisprot ids – participating proteins\n",
    "  ?idField obo:IAO_0000219 ?partProtId .\n",
    "  ?idField kiao:hasTemplate iaouniprot:UniProtFileRecord_primaryAccessionDataField1 .\n",
    "  ?record obo:BFO_0000051 ?idField .\n",
    "  ?record obo:BFO_0000051 ?nameField .\n",
    "  ?nameField kiao:hasTemplate iaouniprot:UniProtFileRecord_nameDataField1 .\n",
    "  ?nameField obo:IAO_0000219 ?partProtName . # uniprot name\n",
    "\n",
    "  #protein interactions\n",
    "  ?protSub2 rdfs:subClassOf ?protClass .\n",
    "  ?r_hasp owl:someValuesFrom ?protSub2 .\n",
    "  ?r_hasp rdf:type owl:Restriction .\n",
    "  ?r_hasp owl:onProperty obo:RO_0000057 . #has_participant\n",
    "\n",
    "  ?interaction rdfs:subClassOf ?r_hasp .\n",
    "  ?interaction rdfs:subClassOf ?rcard .\n",
    "  ?rcard owl:cardinality 2 . # require 2 participants for a binary interaction\n",
    "  ?rcard owl:onProperty obo:RO_0000057 . #has_participant\n",
    "\n",
    "  ?interaction rdfs:subClassOf ?r_hasp2 .\n",
    "  ?r_hasp2 rdf:type owl:Restriction .\n",
    "  ?r_hasp2 owl:onProperty obo:RO_0000057 . #has_participant\n",
    "  ?r_hasp2 owl:someValuesFrom ?protSub3 .\n",
    "\n",
    "  ?protSub3 rdfs:subClassOf ?protClass3 .\n",
    "  ?protClass3 rdfs:subClassOf ?taxonRest .\n",
    "  ?protClass3 rdfs:subClassOf* obo:CHEBI_36080 . #protein\n",
    "  ?intProtId obo:IAO_0000219 ?protClass3 .\n",
    "\n",
    "  filter (?protSub3 != ?protSub2) .\n",
    "\n",
    "  #swisprot ids – participating-protein’s protein interaction partner names\n",
    "  ?idField2 obo:IAO_0000219 ?intProtId . #field denotes ice id\n",
    "  ?idField2 kiao:hasTemplate iaouniprot:UniProtFileRecord_primaryAccessionDataField1 .\n",
    "  ?record2 obo:BFO_0000051 ?idField2 . #record has part id field (column)\n",
    "  ?record2 obo:BFO_0000051 ?nameField2 . #record has part name field\n",
    "  ?nameField2 kiao:hasTemplate iaouniprot:UniProtFileRecord_nameDataField1 .\n",
    "  ?nameField2 obo:IAO_0000219 ?intProtName . # uniprot name\n",
    "  }"
   ]
  },
  {
   "cell_type": "code",
   "execution_count": null,
   "metadata": {},
   "outputs": [],
   "source": [
    "(in-ns 'sparqler.core)\n",
    "\n",
    "(defquery angiogenesis []\n",
    "  \n",
    "  (prefix \"PREFIX franzOption_clauseReorderer: <franz:identity> PREFIX FranzOption_chunkProcessingAllowed: <franz:yes> PREFIX franzOption_memoryLimit: <franz:60g> PREFIX franzOption_memoryExhaustionWarningPercentage: <franz:90.0>\")\n",
    "  \n",
    "  (select-distinct :angioSubs :partProtId :intProtId)\n",
    "  \n",
    "  (where\n",
    "   \n",
    "   (!# \"select angiogenesis GOBPs and its subclasses that are in the OBO namespace\")\n",
    "   (of-biological-process :angioSubs GO:angiogenesis)\n",
    "   \n",
    "   (!# \"restriction only want human proteins that participate in these GOBPs\")\n",
    "   (proteins-that-participates-in :protClass :angioSubs)\n",
    "   \n",
    "   (denotes :partProtID :protClass)\n",
    "   \n",
    "   (in-taxon obo:human :protClass)\n",
    "   \n",
    "   (!# \"swisprot ids participating proteins\")\n",
    "   (swissprot-name :partProtId :partProtName)\n",
    "\n",
    "   (!# \"protein interactions\")\n",
    "   (with-interactions :protClass :intProtId)\n",
    "\n",
    "   (!# \"swisprot ids – participating-protein’s protein interaction partner names\")\n",
    "   (swissprot-name :intProtId :intProtName)\n",
    "   ))\n"
   ]
  },
  {
   "cell_type": "code",
   "execution_count": null,
   "metadata": {},
   "outputs": [],
   "source": [
    "(beakerx :set \"angioquery\" (angiogenesis))"
   ]
  },
  {
   "cell_type": "code",
   "execution_count": null,
   "metadata": {},
   "outputs": [],
   "source": [
    "%%javascript\n",
    "beakerx.angioquery"
   ]
  },
  {
   "cell_type": "code",
   "execution_count": null,
   "metadata": {},
   "outputs": [],
   "source": [
    "%%html\n",
    "<div id=\"yasqeangio\" style=\"width: auto\"></div>"
   ]
  },
  {
   "cell_type": "code",
   "execution_count": null,
   "metadata": {},
   "outputs": [],
   "source": [
    "%%javascript\n",
    "document.getElementById(\"yasqeangio\").innerHTML = \"\";\n",
    "var yasqeangio = YASQE(document.getElementById(\"yasqeangio\"), \n",
    "                  {sparql: \n",
    "                   {showQueryButton: true,\n",
    "                    value: beakerx.angioquery,\n",
    "                    endpoint: \"http://amc-tantor.ucdenver.pvt:10035/repositories/kabob-dev/\",\n",
    "                    headers: { \n",
    "                      Authorization: 'secret:secret'\n",
    "                    },\n",
    "                    xhrFields: {\n",
    "                      withCredentials: true\n",
    "                    }}});\n",
    "\n",
    "yasqeangio.setValue(beakerx.angioquery);\n",
    "\n",
    "var yasr = YASR(document.getElementById(\"agraph-simple\"), {\n",
    "\t//this way, the URLs in the results are prettified using the defined prefixes in the query\n",
    "\tgetUsedPrefixes: yasqe.getPrefixesFromQuery\n",
    "});\n",
    "\n",
    "//link both together\n",
    "yasqeangio.options.sparql.callbacks.complete = yasr.setResponse;"
   ]
  },
  {
   "cell_type": "markdown",
   "metadata": {},
   "source": [
    "# Methods"
   ]
  },
  {
   "cell_type": "markdown",
   "metadata": {},
   "source": [
    "## SPARQLer"
   ]
  },
  {
   "cell_type": "markdown",
   "metadata": {},
   "source": [
    "Manually composing SPARQL queries for KaBOB is tedious and error-prone."
   ]
  },
  {
   "cell_type": "code",
   "execution_count": null,
   "metadata": {},
   "outputs": [],
   "source": [
    "(def localize-cyc (localize uniprot:HUMAN_CYC))"
   ]
  },
  {
   "cell_type": "code",
   "execution_count": null,
   "metadata": {},
   "outputs": [],
   "source": [
    "(kabob-query localize-cyc)"
   ]
  },
  {
   "cell_type": "code",
   "execution_count": null,
   "metadata": {},
   "outputs": [],
   "source": [
    "(print-table result)"
   ]
  },
  {
   "cell_type": "code",
   "execution_count": null,
   "metadata": {},
   "outputs": [],
   "source": [
    "(clojure.set/rename result {:protein_name \"protein_name\", :location_class \"location_class\", :location_name \"location_name\"}) "
   ]
  },
  {
   "cell_type": "code",
   "execution_count": null,
   "metadata": {},
   "outputs": [],
   "source": [
    "(use '[clojure.pprint :only [print-table]])\n",
    "(def result (kabob-query q))\n",
    "(println result)"
   ]
  },
  {
   "cell_type": "markdown",
   "metadata": {},
   "source": [
    "## Now, with Javascript..."
   ]
  },
  {
   "cell_type": "markdown",
   "metadata": {},
   "source": [
    "Now, lets look at it with a SPARQL javascript library."
   ]
  },
  {
   "cell_type": "code",
   "execution_count": null,
   "metadata": {},
   "outputs": [],
   "source": [
    "(def qu (QueryFactory/create q))\n",
    "(QueryExecutionFactory/sparqlService (get kabob :endpoint) q) 2"
   ]
  },
  {
   "cell_type": "code",
   "execution_count": null,
   "metadata": {},
   "outputs": [],
   "source": [
    "(beakerx :set \"query\" q)"
   ]
  },
  {
   "cell_type": "code",
   "execution_count": null,
   "metadata": {},
   "outputs": [],
   "source": [
    "%%javascript\n",
    "beakerx.query"
   ]
  },
  {
   "cell_type": "code",
   "execution_count": null,
   "metadata": {},
   "outputs": [],
   "source": [
    "%%html\n",
    "<div id=\"yasqe\" style=\"width: auto\"></div>"
   ]
  },
  {
   "cell_type": "code",
   "execution_count": null,
   "metadata": {},
   "outputs": [],
   "source": [
    "%%javascript\n",
    "document.getElementById(\"yasqeangio\").innerHTML = \"\";\n",
    "var yasqe = YASQE(document.getElementById(\"yasqe\"), {\n",
    "\tsparql: {\n",
    "\t\tshowQueryButton: true,\n",
    "\t\tendpoint: \"http://amc-tantor.ucdenver.pvt:10035/repositories/kabob-dev/\",\n",
    "\t\theaders: { \n",
    "\t\t\tAuthorization: 'secret:secret'\n",
    "\t\t},\n",
    "\t\txhrFields: {\n",
    "\t\t\twithCredentials: true\n",
    "\t\t}\n",
    "\t}\n",
    "});\n",
    "yasqe.setValue(beakerx.query);"
   ]
  },
  {
   "cell_type": "code",
   "execution_count": null,
   "metadata": {},
   "outputs": [],
   "source": [
    "(def qexec (doto (QueryExecutionFactory/sparqlService (get kabob :endpoint) q) (.setBasicAuthentication (get kabob :user) (char-array (get kabob :pass)))))\n",
    "(def results (.execSelect qexec))"
   ]
  },
  {
   "cell_type": "code",
   "execution_count": null,
   "metadata": {},
   "outputs": [],
   "source": [
    "(def outputStream (ByteArrayOutputStream.))\n",
    "(ResultSetFormatter/outputAsJSON outputStream results)\n",
    "(def json (String. (.toByteArray outputStream)))\n",
    "(beakerx :set \"result\" json)"
   ]
  },
  {
   "cell_type": "code",
   "execution_count": null,
   "metadata": {},
   "outputs": [],
   "source": [
    "%%html\n",
    "<div id=\"yasr\" style=\"width: auto\"></div>"
   ]
  },
  {
   "cell_type": "code",
   "execution_count": null,
   "metadata": {},
   "outputs": [],
   "source": [
    "%%javascript\n",
    "var yasr = YASR(document.getElementById(\"yasr\"));\n",
    "\n",
    "yasr.setResponse(beakerx.result);"
   ]
  },
  {
   "cell_type": "markdown",
   "metadata": {},
   "source": [
    "## Use d3sparql.js to visualize the result"
   ]
  },
  {
   "cell_type": "markdown",
   "metadata": {},
   "source": [
    "### d3sparql website"
   ]
  },
  {
   "cell_type": "code",
   "execution_count": null,
   "metadata": {},
   "outputs": [],
   "source": [
    "%%html\n",
    "<iframe src=\"http://biohackathon.org/d3sparql/\" width = 60% height = 1000></iframe> "
   ]
  },
  {
   "cell_type": "markdown",
   "metadata": {},
   "source": [
    "### d3sparql example"
   ]
  },
  {
   "cell_type": "code",
   "execution_count": null,
   "metadata": {},
   "outputs": [],
   "source": [
    "%%html\n",
    "    <div id=\"result\"></div>"
   ]
  },
  {
   "cell_type": "code",
   "execution_count": null,
   "metadata": {},
   "outputs": [],
   "source": [
    "%%javascript\n",
    "json = JSON.parse(beakerx.result);\n",
    "d3sparql"
   ]
  },
  {
   "cell_type": "code",
   "execution_count": null,
   "metadata": {},
   "outputs": [],
   "source": [
    "%%javascript\n",
    " var config = {\n",
    "        \"key1\":   \"protein_name\",       // SPARQL variable name for node1 (optional; default is the 1st variable)\n",
    "        \"key2\":   \"location_name\",       // SPARQL variable name for node2 (optional; default is the 2nd varibale)\n",
    "        \"label1\": \"protein_name\",  // SPARQL variable name for the label of node1 (optional; default is the 3rd variable)\n",
    "        \"label2\": \"location_name\",  // SPARQL variable name for the label of node2 (optional; default is the 4th variable)\n",
    "        //\"value1\": \"node1value\",  // SPARQL variable name for the value of node1 (optional; default is the 5th variable)\n",
    "        //\"value2\": \"node2value\"   // SPARQL variable name for the value of node2 (optional; default is the 6th variable)\n",
    "        //\"radius\": 100,\n",
    "        \"charge\": -500,\n",
    "        \"distance\": 200,\n",
    "        \"width\": 1000,\n",
    "        \"height\": 750,\n",
    "        \"selector\": \"#result\"\n",
    "      }\n",
    "d3sparql.forcegraph(json, config)"
   ]
  },
  {
   "cell_type": "code",
   "execution_count": null,
   "metadata": {},
   "outputs": [],
   "source": [
    "%%javascript\n",
    "var config = {\n",
    "        // for d3sparql.tree()\n",
    "        \"root\": \"protein_name\",\n",
    "        \"parent\": \"protein_name\",\n",
    "        \"child\": \"location_name\",\n",
    "        // for d3sparql.roundtree()\n",
    "        \"diameter\": 800,\n",
    "        \"angle\": 360,\n",
    "        \"depth\": 200,\n",
    "        \"radius\": 5,\n",
    "        \"selector\": \"#result\"\n",
    "      }\n",
    "d3sparql.roundtree(json, config)"
   ]
  },
  {
   "cell_type": "code",
   "execution_count": null,
   "metadata": {},
   "outputs": [],
   "source": [
    "%%javascript\n",
    "var config = {\n",
    "        \"selector\": \"#result\"\n",
    "}\n",
    "d3sparql.htmltable(json, config)"
   ]
  },
  {
   "cell_type": "code",
   "execution_count": null,
   "metadata": {},
   "outputs": [],
   "source": [
    "%%javascript\n"
   ]
  },
  {
   "cell_type": "code",
   "execution_count": null,
   "metadata": {},
   "outputs": [],
   "source": []
  },
  {
   "cell_type": "code",
   "execution_count": null,
   "metadata": {},
   "outputs": [],
   "source": [
    "(def q (localize uniprot:HUMAN_CYC))\n",
    "q"
   ]
  },
  {
   "cell_type": "markdown",
   "metadata": {},
   "source": [
    "# Abstract"
   ]
  }
 ],
 "metadata": {
  "kernelspec": {
   "display_name": "Clojure",
   "language": "clojure",
   "name": "clojure"
  }
 },
 "nbformat": 4,
 "nbformat_minor": 2
}
