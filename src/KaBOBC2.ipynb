{
 "cells": [
  {
   "cell_type": "markdown",
   "metadata": {},
   "source": [
    "# Appendix C, Example 2"
   ]
  },
  {
   "cell_type": "markdown",
   "metadata": {},
   "source": [
    "## Introduction"
   ]
  },
  {
   "cell_type": "code",
   "execution_count": null,
   "metadata": {},
   "outputs": [],
   "source": [
    "(refer 'sparqler.core)\n",
    "(assert kabob)"
   ]
  },
  {
   "cell_type": "markdown",
   "metadata": {},
   "source": [
    "## Query"
   ]
  },
  {
   "cell_type": "markdown",
   "metadata": {},
   "source": [
    "### Manual SPARQL"
   ]
  },
  {
   "cell_type": "markdown",
   "metadata": {},
   "source": [
    "The following cell will be stored in the beakerx.query1 variable...."
   ]
  },
  {
   "cell_type": "code",
   "execution_count": null,
   "metadata": {},
   "outputs": [],
   "source": [
    "%%sql\n",
    "PREFIX franzOption_clauseReorderer: <franz:identity>\n",
    "PREFIX rdfs: <http://www.w3.org/2000/01/rdf-schema#>\n",
    "PREFIX owl: <http://www.w3.org/2002/07/owl#>\n",
    "PREFIX obo: <http://purl.obolibrary.org/obo/>\n",
    "PREFIX kbio: <http://kabob.ucdenver.edu/bio/>\n",
    "PREFIX iaouniprot: <http://kabob.ucdenver.edu/iao/uniprot/>\n",
    "\n",
    "SELECT DISTINCT ?processName ?insulin ?insulin_sc\n",
    "WHERE {\n",
    "## the human insulin protein\n",
    "iaouniprot:UNIPROT_P01308_ICE obo:IAO_0000219 ?insulin .\n",
    "\n",
    "  ?insulin_sc rdfs:subClassOf ?insulin .  # added missing sc relation\n",
    "\n",
    "## processes that this protein participates in\n",
    "?insParticipant owl:someValuesFrom ?insulin_sc .\n",
    "?insParticipant owl:onProperty obo:RO_0000057 . # RO:has_participant\n",
    "?interaction rdfs:subClassOf ?insParticipant.\n",
    "\n",
    "## look at only interactions\n",
    "?interaction rdfs:subClassOf obo:MI_0407 . # interaction\n",
    "\n",
    "## get all the other participants in those interactions\n",
    "FILTER (?insParticipant != ?rparticipant) . # insure different\n",
    "?rparticipant owl:someValuesFrom ?participant.\n",
    "?rparticipant owl:onProperty obo:RO_0000057 .\n",
    "?interaction rdfs:subClassOf ?rparticipant.\n",
    "\n",
    "## gene specific gene or gene product abstraction ?gorgporv\n",
    "?participant rdfs:subClassOf* ?gorgporv.\n",
    "?gorgporv rdf:type kbio:GeneSpecificGorGPorVClass .\n",
    "\n",
    "## all gene products\n",
    "?geneproduct rdfs:subClassOf* ?gorgporv.\n",
    "\n",
    "## get processes they participate in\n",
    "?gpparticipant owl:someValuesFrom ?geneproduct.\n",
    "?gpparticipant owl:onProperty obo:RO_0000057 .\n",
    "?process rdfs:subClassOf ?gpparticipant.\n",
    "\n",
    "## get the labeled names for those processes or parents\n",
    "?process rdfs:subClassOf ?parentProcess.\n",
    "?parentProcess rdfs:label ?processName .\n",
    " }"
   ]
  },
  {
   "cell_type": "code",
   "execution_count": null,
   "metadata": {},
   "outputs": [],
   "source": [
    "%%javascript\n",
    "beakerx.query1 = beakerx.getCodeCells('query1')[0].code"
   ]
  },
  {
   "cell_type": "markdown",
   "metadata": {},
   "source": [
    "### SPARQLer"
   ]
  },
  {
   "cell_type": "markdown",
   "metadata": {},
   "source": [
    "#### Step 1: Convert to clojure and define constants"
   ]
  },
  {
   "cell_type": "code",
   "execution_count": null,
   "metadata": {},
   "outputs": [],
   "source": [
    "(in-ns 'sparqler.core)\n",
    "\n",
    "(defn all-gene-products [geneproduct gorgporv]\n",
    "  (list geneproduct rdfs:subClassOf* gorgporv))\n",
    "\n",
    "(defn interactions-geneproduct-participate-in [participant geneproduct interactions]\n",
    "  (subquery [participant geneproduct interactions]\n",
    "    participant owl:someValuesFrom geneproduct \\.\n",
    "    participant owl:onProperty RO:has_participant \\. ;# RO:has_participant\n",
    "    interactions rdfs:subClassOf participant \\.))\n",
    "            "
   ]
  },
  {
   "cell_type": "code",
   "execution_count": null,
   "metadata": {},
   "outputs": [],
   "source": [
    "(in-ns 'sparqler.core)\n",
    "\n",
    "(def uniprot:UNIPROT_P01308_ICE [:uniprot :UNIPROT_P01308_ICE])\n",
    "\n",
    "(def MI:interaction [:obo :MI_0407])\n",
    "\n",
    "(defquery KaBOBC2 []\n",
    "  \n",
    "  (prefix \"PREFIX franzOption_clauseReorderer: <franz:identity>\\n\")\n",
    "\n",
    "  (select-distinct :processName :insulin :insulin_sc)\n",
    "  \n",
    "  (where\n",
    "    \n",
    "    (!# \"# the human insulin protein\")\n",
    "    uniprot:UNIPROT_P01308_ICE iao:denotes :insulin \\.\n",
    "\n",
    "    :insulin_sc rdfs:subClassOf :insulin \\.  ;# added missing sc relation\n",
    "\n",
    "    (!# \"# processes that this protein participates in\")\n",
    "    ;:insParticipant owl:someValuesFrom :insulin_sc \\.\n",
    "    ;:insParticipant owl:onProperty RO:has_participant \\. \n",
    "    ;:interaction rdfs:subClassOf :insParticipant \\.\n",
    "    (interactions-geneproduct-participate-in :insParticipant :insulin_sc :interaction)\n",
    "\n",
    "    (!# \"# look at only interactions\")\n",
    "    :interaction rdfs:subClassOf MI:interaction \\.\n",
    "\n",
    "    (!# \"# get all the other participants in those interactions\")\n",
    "    ;:interaction rdfs:subClassOf :rparticipant \\.\n",
    "    (filter :insParticipant != :rparticipant) \\. ;# insure different\n",
    "    ;:rparticipant owl:onProperty RO:has_participant \\.\n",
    "    ;:rparticipant owl:someValuesFrom :participant \\.\n",
    "    (interactions-geneproduct-participate-in :rparticipant :participant :interaction)\n",
    "\n",
    "    (!# \"# gene specific gene or gene product abstraction ?gorgporv\")\n",
    "    :participant rdfs:subClassOf* :gorgporv \\.\n",
    "    :gorgporv rdf:type [:kbio :GeneSpecificGorGPorVClass] \\.\n",
    "    ;(gene-or-gene-products :participant :gorgporv)\n",
    "\n",
    "    (!# \"# all gene products\")\n",
    "    ;:geneproduct rdfs:subClassOf* :gorgporv \\.\n",
    "    (all-gene-products :geneproduct :gorgporv)\n",
    "\n",
    "    (!# \"# get processes they participate in\")\n",
    "    ;:gpparticipant owl:someValuesFrom :geneproduct \\.\n",
    "    ;:gpparticipant owl:onProperty RO:has_participant \\.\n",
    "    ;:process rdfs:subClassOf :gpparticipant \\.\n",
    "    (interactions-geneproduct-participate-in :gpparticipant :geneproduct :process)\n",
    "    \n",
    "\n",
    "    (!# \"# get the labeled names for those processes or parents\")\n",
    "    :process rdfs:subClassOf :parentProcess \\.\n",
    "    :parentProcess rdfs:label :processName \\.\n",
    "  ))\n"
   ]
  },
  {
   "cell_type": "code",
   "execution_count": null,
   "metadata": {},
   "outputs": [],
   "source": [
    "(#'sparqler.core/KaBOBC2)"
   ]
  },
  {
   "cell_type": "code",
   "execution_count": null,
   "metadata": {},
   "outputs": [],
   "source": [
    "(beakerx :set \"query2\" (#'sparqler.core/KaBOBC2))"
   ]
  },
  {
   "cell_type": "code",
   "execution_count": null,
   "metadata": {},
   "outputs": [],
   "source": [
    "%%html\n",
    "<pre id=\"display\"></pre>"
   ]
  },
  {
   "cell_type": "code",
   "execution_count": null,
   "metadata": {},
   "outputs": [],
   "source": [
    "%%javascript\n",
    "document.getElementById(\"display\").innerHTML = \"\";\n",
    "\n",
    "var one = beakerx.query1,\n",
    "    other = beakerx.query2,\n",
    "    color = 'blue',\n",
    "    span = null;\n",
    "\n",
    "var diff = JsDiff.diffChars(other, one, {ignoreWhitespace:true, newlineIsToken: true}),\n",
    "    display = document.getElementById('display'),\n",
    "    fragment = document.createDocumentFragment();\n",
    "\n",
    "diff.forEach(function(part){\n",
    "  // green for additions, red for deletions\n",
    "  // grey for common parts\n",
    "  color = part.added ? 'green' :\n",
    "    part.removed ? 'red' : 'grey';\n",
    "  span = document.createElement('span');\n",
    "  span.style.color = color;\n",
    "  span.appendChild(document\n",
    "    .createTextNode(part.value));\n",
    "  fragment.appendChild(span);\n",
    "});\n",
    "\n",
    "display.appendChild(fragment);"
   ]
  },
  {
   "cell_type": "code",
   "execution_count": null,
   "metadata": {},
   "outputs": [],
   "source": [
    "(def q (#'sparqler.core/KaBOBC2))"
   ]
  },
  {
   "cell_type": "code",
   "execution_count": null,
   "metadata": {},
   "outputs": [],
   "source": [
    "(def r (kabob-query q))\n",
    "(clojure.set/rename r {:processName \"processName\", :insulin \"insulin\", :insulin_sc \"insulin_sc\"})"
   ]
  },
  {
   "cell_type": "code",
   "execution_count": null,
   "metadata": {},
   "outputs": [],
   "source": [
    "(webview-query q)"
   ]
  },
  {
   "cell_type": "code",
   "execution_count": null,
   "metadata": {},
   "outputs": [],
   "source": []
  }
 ],
 "metadata": {
  "kernelspec": {
   "display_name": "Clojure",
   "language": "clojure",
   "name": "clojure"
  }
 },
 "nbformat": 4,
 "nbformat_minor": 2
}
