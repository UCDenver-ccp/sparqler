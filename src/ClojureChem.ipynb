{
 "cells": [
  {
   "cell_type": "code",
   "execution_count": null,
   "metadata": {},
   "outputs": [],
   "source": [
    "(import chemaxon.marvin.MolPrinter)\n",
    "(import java.awt.Graphics2D)\n",
    "(import java.awt.image.BufferedImage)\n",
    "(import java.awt.Rectangle)\n",
    "\n",
    "(def n (MolImporter/importMol \"CN1C=NC2=C1C(=O)N(C)C(=O)N2C>>CN1C=NC2=C1C(=O)N(C)C(=O)N2C\"))\n",
    "  \n",
    "(defn image [n] \n",
    "  (def im (BufferedImage. 800 200 BufferedImage/TYPE_INT_ARGB))\n",
    "  (def g (.createGraphics im))\n",
    "  (def molPrinter (MolPrinter. n))\n",
    "  (def rect (Rectangle. 20, 20, 360, 200))\n",
    "  (.setScale molPrinter (* 0.8 (.maxScale molPrinter rect)))\n",
    "  (.paint molPrinter g rect)\n",
    "  im)\n",
    "\n",
    "(image n)"
   ]
  },
  {
   "cell_type": "code",
   "execution_count": null,
   "metadata": {},
   "outputs": [],
   "source": [
    "(def reactor (Reactor.))\n",
    "(def rxmol (RxnMolecule.))\n",
    "(def rxmol (MolImporter/importMol \"[F,Cl,Br,I:3][C:1]=O.[H:4][O:2][#6]>>[#6][O:2][C:1]=O.[F,Cl,Br,I:3][H:4]\"))\n",
    "(image rxmol)"
   ]
  },
  {
   "cell_type": "markdown",
   "metadata": {},
   "source": [
    "## KEGG RCLASS"
   ]
  },
  {
   "cell_type": "markdown",
   "metadata": {},
   "source": [
    "<iframe src=\"http://www.genome.jp/kegg/reaction/\" width = 100% height = 1000></iframe> "
   ]
  },
  {
   "cell_type": "markdown",
   "metadata": {},
   "source": [
    "<iframe src=\"http://www.genome.jp/dbget-bin/www_bget?rc:RC00050\" width = 100% height = 1000></iframe> "
   ]
  },
  {
   "cell_type": "markdown",
   "metadata": {},
   "source": [
    "## ChemAxon reactor"
   ]
  },
  {
   "cell_type": "markdown",
   "metadata": {},
   "source": [
    "KEGG Definition:          C1b-C4a:*-*:O1a+R-O4a+R\n",
    "\n",
    "Reaction:                      C1b-C4a\n",
    "\n",
    "Difference:                   *-*\n",
    "\n",
    "Matched:                      O1a+R-O4a+R"
   ]
  },
  {
   "cell_type": "code",
   "execution_count": null,
   "metadata": {},
   "outputs": [],
   "source": [
    ";(smarts \"C1b-C4a:-:O1a+R-O4a+R\") => \"CO>>C=O\"\n",
    "(def RC00050 (MolImporter/importMol \"CO>>C=O\"))\n",
    "(image RC00050 )"
   ]
  },
  {
   "cell_type": "code",
   "execution_count": null,
   "metadata": {},
   "outputs": [],
   "source": [
    "(def reactor (Reactor.))\n",
    "(.setReaction reactor RC00050)\n",
    "(def ethanol (MolImporter/importMol \"ethanol\" \"name\"))\n",
    "(.setReactants reactor (into-array (list ethanol)))\n",
    "(def products (.react reactor))\n",
    "(image (first products))"
   ]
  },
  {
   "cell_type": "code",
   "execution_count": null,
   "metadata": {},
   "outputs": [],
   "source": [
    "(.toFormat (first products) \"name:t\")"
   ]
  },
  {
   "cell_type": "code",
   "execution_count": null,
   "metadata": {},
   "outputs": [],
   "source": [
    "(def reactor (Reactor.))\n",
    "(.setReaction reactor RC00050)\n",
    "(def ethanol (MolImporter/importMol \"methanol\" \"name\"))\n",
    "(.setReactants reactor (into-array (list ethanol)))\n",
    "(def products (.react reactor))\n",
    "(image (first products))"
   ]
  },
  {
   "cell_type": "code",
   "execution_count": null,
   "metadata": {},
   "outputs": [],
   "source": [
    "(def furfurol (MolImporter/importMol \"furfurol\" \"name\"))\n",
    "(.setReactants reactor (into-array (list furfurol)))\n",
    "(def products (.react reactor))\n",
    "(into-array (map #(.toFormat %1 \"smiles\") products))\n",
    "(image (first products))"
   ]
  },
  {
   "cell_type": "code",
   "execution_count": null,
   "metadata": {},
   "outputs": [],
   "source": [
    "(.toFormat (first products) \"name:t\")"
   ]
  },
  {
   "cell_type": "code",
   "execution_count": null,
   "metadata": {},
   "outputs": [],
   "source": [
    ";(smarts \"C1b-C4a:-:O1a+R-O4a+R\") => \"CO>>C=O\"\n",
    ";(def RC00050 (MolImporter/importMol \"[R]C=O>>[R]CO\"))\n",
    "(image RC00050 )"
   ]
  },
  {
   "cell_type": "markdown",
   "metadata": {},
   "source": [
    "And the reaction can be reversed, which is useful for our future Retrobiosynthesis schemes."
   ]
  },
  {
   "cell_type": "code",
   "execution_count": null,
   "metadata": {},
   "outputs": [],
   "source": [
    "(def furfural (MolImporter/importMol \"furfural\" \"name\"))\n",
    "(.setReaction reactor RC00050)\n",
    "(.setReactants reactor (into-array (list furfural)))\n",
    "(.setReverse reactor true)\n",
    "(def products (.react reactor))\n",
    "(image (first products))"
   ]
  },
  {
   "cell_type": "code",
   "execution_count": null,
   "metadata": {},
   "outputs": [],
   "source": [
    "(import com.twosigma.beakerx.jvm.object.OutputContainer)\n",
    "(import com.twosigma.beakerx.jvm.object.GridOutputContainerLayoutManager)\n",
    "(def o (OutputContainer.))\n",
    "(.setLayoutManager o (GridOutputContainerLayoutManager. 2))\n",
    "(.addItem o (image furfurol))\n",
    "(.addItem o (image furfural))\n",
    "o"
   ]
  },
  {
   "cell_type": "code",
   "execution_count": null,
   "metadata": {},
   "outputs": [],
   "source": [
    "(def mcs (MCES.))\n",
    "(.setMolecules mcs furfurol furfural)\n",
    "(.search mcs)\n",
    "(image (.getAsMolecule mcs))"
   ]
  },
  {
   "cell_type": "code",
   "execution_count": null,
   "metadata": {},
   "outputs": [],
   "source": [
    "(require '[clojure.reflect :as r])\n",
    "(use '[clojure.pprint :only [print-table]])\n",
    "\n",
    "(print-table (:members (r/reflect mcs)))"
   ]
  },
  {
   "cell_type": "code",
   "execution_count": null,
   "metadata": {},
   "outputs": [],
   "source": [
    "(println (.getUnmatchedTargetAtoms mcs))\n",
    "(println (.getUnmatchedTargetBonds mcs))\n",
    "(println (.getUnmatchedQueryAtoms mcs))\n",
    "(println (.getUnmatchedQueryBonds mcs))"
   ]
  },
  {
   "cell_type": "markdown",
   "metadata": {},
   "source": [
    "### Calculations"
   ]
  },
  {
   "cell_type": "code",
   "execution_count": null,
   "metadata": {},
   "outputs": [],
   "source": [
    "(def elemental (ElementalAnalyser.))\n",
    "(.setMolecule elemental furfural)"
   ]
  },
  {
   "cell_type": "code",
   "execution_count": null,
   "metadata": {},
   "outputs": [],
   "source": [
    "(.exactMass elemental);"
   ]
  },
  {
   "cell_type": "code",
   "execution_count": null,
   "metadata": {},
   "outputs": [],
   "source": [
    "(.mass elemental);"
   ]
  },
  {
   "cell_type": "code",
   "execution_count": null,
   "metadata": {},
   "outputs": [],
   "source": [
    "(.massPrecision elemental);"
   ]
  },
  {
   "cell_type": "code",
   "execution_count": null,
   "metadata": {},
   "outputs": [],
   "source": [
    "(.atomCount elemental 8); // oxygen atom count"
   ]
  },
  {
   "cell_type": "code",
   "execution_count": null,
   "metadata": {},
   "outputs": [],
   "source": [
    "(.atomCount elemental 8, 0) ; // non-isotope oxygen count"
   ]
  },
  {
   "cell_type": "code",
   "execution_count": null,
   "metadata": {},
   "outputs": [],
   "source": [
    "(.isotopeFormula elemental)"
   ]
  },
  {
   "cell_type": "code",
   "execution_count": null,
   "metadata": {},
   "outputs": [],
   "source": [
    "(.composition elemental 2)"
   ]
  },
  {
   "cell_type": "code",
   "execution_count": null,
   "metadata": {},
   "outputs": [],
   "source": [
    "(.isotopeComposition elemental 2)"
   ]
  },
  {
   "cell_type": "code",
   "execution_count": null,
   "metadata": {},
   "outputs": [],
   "source": [
    "(.formula elemental)"
   ]
  },
  {
   "cell_type": "code",
   "execution_count": null,
   "metadata": {},
   "outputs": [],
   "source": [
    "(require '[clojure.reflect :as r])\n",
    "(use '[clojure.pprint :only [print-table]])\n",
    "\n",
    "(print-table (:members (r/reflect ElementalAnalyser)))"
   ]
  },
  {
   "cell_type": "code",
   "execution_count": null,
   "metadata": {},
   "outputs": [],
   "source": [
    "furfural"
   ]
  },
  {
   "cell_type": "code",
   "execution_count": null,
   "metadata": {},
   "outputs": [],
   "source": [
    "(def gen (ECFPGenerator.))\n",
    "(def fp1 (ECFP. (ECFPParameters.)))\n",
    "(.generate gen furfurol fp1)\n",
    "\n",
    "(def fp2 (ECFP. (ECFPParameters.)))\n",
    "(.generate gen furfural fp2)\n",
    "\n",
    "(println \"Dissimilarity:\" (.getDissimilarity fp1 fp2))\n",
    "(println \"Euclidean:\" (.getEuclidean fp1 fp2))\n",
    "(println \"AsymmetricEuclidean:\" (.getAsymmetricEuclidean fp1 fp2))\n",
    "(println \"Tanimoto:\" (.getTanimoto fp1 fp2))\n",
    "(println \"FP1 Binary:\" (.toBinaryString fp1))"
   ]
  },
  {
   "cell_type": "markdown",
   "metadata": {},
   "source": [
    "Marvin does not support multistep reactions (or pathways).  It can only handle single step reactions."
   ]
  },
  {
   "cell_type": "code",
   "execution_count": null,
   "metadata": {},
   "outputs": [],
   "source": [
    "(def mapper (AutoMapper.))\n",
    "(def mol (MolImporter/importMol \"C1CCCCC1=O>>C1COC2(CCCCC2)O1\"))\n",
    "(def rm (RxnMolecule/getReaction RC00050 ));\n",
    "(.map mapper rm )\n",
    "(image rm)"
   ]
  },
  {
   "cell_type": "code",
   "execution_count": null,
   "metadata": {},
   "outputs": [],
   "source": []
  }
 ],
 "metadata": {
  "kernelspec": {
   "display_name": "Clojure",
   "language": "clojure",
   "name": "clojure"
  }
 },
 "nbformat": 4,
 "nbformat_minor": 2
}
