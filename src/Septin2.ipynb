{
 "cells": [
  {
   "cell_type": "markdown",
   "metadata": {},
   "source": [
    "# Appendix C, Example 1"
   ]
  },
  {
   "cell_type": "markdown",
   "metadata": {},
   "source": [
    "## Introduction"
   ]
  },
  {
   "cell_type": "code",
   "execution_count": null,
   "metadata": {},
   "outputs": [],
   "source": [
    "(refer 'sparqler.core)\n",
    "(assert kabob)"
   ]
  },
  {
   "cell_type": "markdown",
   "metadata": {},
   "source": [
    "## Query"
   ]
  },
  {
   "cell_type": "markdown",
   "metadata": {},
   "source": [
    "### Manual SPARQL"
   ]
  },
  {
   "cell_type": "markdown",
   "metadata": {},
   "source": [
    "The following cell will be stored in the beakerx.query1 variable...."
   ]
  },
  {
   "cell_type": "code",
   "execution_count": null,
   "metadata": {},
   "outputs": [],
   "source": [
    "%%sql\n",
    "PREFIX franzOption_clauseReorderer: <franz:identity>\n",
    "PREFIX rdfs: <http://www.w3.org/2000/01/rdf-schema#>\n",
    "PREFIX owl: <http://www.w3.org/2002/07/owl#>\n",
    "PREFIX obo: <http://purl.obolibrary.org/obo/>\n",
    "PREFIX kbio: <http://kabob.ucdenver.edu/bio/>\n",
    "PREFIX iaohgnc: <http://kabob.ucdenver.edu/iao/hgnc/>\n",
    "\n",
    "\n",
    "SELECT ?participant \n",
    "WHERE {\n",
    "\n",
    "iaohgnc:HGNC_SEPT2_ICE obo:IAO_0000219 ?gene  . # SEPT2\n",
    "\n",
    "## gene specific gene or gene product abstraction ?gorgporv\n",
    "?gene rdfs:subClassOf* ?gorgporv .  \n",
    "?gorgporv rdf:type kbio:GeneSpecificGorGPorVClass .\n",
    "\n",
    "## all gene products\n",
    "?geneproduct rdfs:subClassOf* ?gorgporv.\n",
    "\n",
    "## get interactions they participate in\n",
    "?participant_r owl:someValuesFrom ?geneproduct.\n",
    "?participant_r owl:onProperty obo:RO_0000057 . # RO:has_participant\n",
    "?interaction rdfs:subClassOf ?participant_r .\n",
    "\n",
    "## look at only interactions\n",
    "?interaction rdfs:subClassOf obo:MI_0407 . # interaction\n",
    "\n",
    "## get all the other participants in those interactions\n",
    "?interaction rdfs:subClassOf ?participant_r2.\n",
    "FILTER (?participant_r != ?participant_r2) . # insure different\n",
    "?participant_r2 owl:onProperty obo:RO_0000057 . # RO:has_participant\n",
    "?participant_r2 owl:someValuesFrom ?participant.\n",
    "}"
   ]
  },
  {
   "cell_type": "code",
   "execution_count": null,
   "metadata": {},
   "outputs": [],
   "source": [
    "%%javascript\n",
    "beakerx.query1 = beakerx.getCodeCells('query1')[0].code"
   ]
  },
  {
   "cell_type": "markdown",
   "metadata": {},
   "source": [
    "### SPARQLer"
   ]
  },
  {
   "cell_type": "markdown",
   "metadata": {},
   "source": [
    "#### Step 1: Convert to clojure and define constants"
   ]
  },
  {
   "cell_type": "code",
   "execution_count": null,
   "metadata": {},
   "outputs": [],
   "source": [
    "\n"
   ]
  },
  {
   "cell_type": "code",
   "execution_count": null,
   "metadata": {},
   "outputs": [],
   "source": []
  },
  {
   "cell_type": "code",
   "execution_count": null,
   "metadata": {},
   "outputs": [],
   "source": [
    "(in-ns 'sparqler.core)\n",
    "\n",
    "(def MI:interaction [:obo :MI_0407])\n",
    "\n",
    "(defquery septin2-participants []\n",
    "  \n",
    "  (select :participant)\n",
    "  \n",
    "  (where \n",
    "    ;iaohgnc:HGNC_SEPT2_ICE obo:IAO_0000219 ?gene  .\n",
    "    [:iaohgnc :HGNC_SEPT2_ICE] iao:denotes :gene \\.\n",
    "\n",
    "    ;## gene specific gene or gene product abstraction ?gorgporv\n",
    "    ;?gene rdfs:subClassOf* ?gorgporv .  \n",
    "    ;?gorgporv rdf:type kbio:GeneSpecificGorGPorVClass .\n",
    "    (gene-or-gene-products :gene :gorgporv)\n",
    "    \n",
    "    ;## all gene products\n",
    "    ;?geneproduct rdfs:subClassOf* ?gorgporv.\n",
    "    :geneproduct rdfs:subClassOf* :gorgporv \\.\n",
    "\n",
    "    ;## get interactions they participate in\n",
    "    :participant_r owl:someValuesFrom :geneproduct \\.\n",
    "    :participant_r owl:onProperty RO:has_participant \\. ;# RO:has_participant\n",
    "    :interaction rdfs:subClassOf :participant_r \\.\n",
    "\n",
    "    ;## look at only interactions\n",
    "    :interaction rdfs:subClassOf MI:interaction \\. ;# interaction\n",
    "\n",
    "    ;## get all the other participants in those interactions\n",
    "    :interaction rdfs:subClassOf :participant_r2 \\.\n",
    "    (filter :participant_r != :participant_r2) \\. ;# insure different\n",
    "    :participant_r2 owl:onProperty RO:has_participant \\. ;# RO:has_participant\n",
    "    :participant_r2 owl:someValuesFrom :participant \\.\n",
    "    )\n",
    "  )\n"
   ]
  },
  {
   "cell_type": "code",
   "execution_count": null,
   "metadata": {},
   "outputs": [],
   "source": [
    "(#'sparqler.core/septin2-participants)"
   ]
  },
  {
   "cell_type": "code",
   "execution_count": null,
   "metadata": {},
   "outputs": [],
   "source": [
    "(beakerx :set \"query2\" (#'sparqler.core/septin2-participants))"
   ]
  },
  {
   "cell_type": "code",
   "execution_count": null,
   "metadata": {},
   "outputs": [],
   "source": [
    "%%html\n",
    "<pre id=\"display\"></pre>"
   ]
  },
  {
   "cell_type": "code",
   "execution_count": null,
   "metadata": {},
   "outputs": [],
   "source": [
    "%%javascript\n",
    "document.getElementById(\"display\").innerHTML = \"\";\n",
    "\n",
    "var one = beakerx.query1,\n",
    "    other = beakerx.query2,\n",
    "    color = 'blue',\n",
    "    span = null;\n",
    "\n",
    "var diff = JsDiff.diffChars(one, other),\n",
    "    display = document.getElementById('display'),\n",
    "    fragment = document.createDocumentFragment();\n",
    "\n",
    "diff.forEach(function(part){\n",
    "  // green for additions, red for deletions\n",
    "  // grey for common parts\n",
    "  color = part.added ? 'green' :\n",
    "    part.removed ? 'red' : 'grey';\n",
    "  span = document.createElement('span');\n",
    "  span.style.color = color;\n",
    "  span.appendChild(document\n",
    "    .createTextNode(part.value));\n",
    "  fragment.appendChild(span);\n",
    "});\n",
    "\n",
    "display.appendChild(fragment);"
   ]
  },
  {
   "cell_type": "code",
   "execution_count": null,
   "metadata": {},
   "outputs": [],
   "source": [
    "(kabob-query (angiogenesis))"
   ]
  },
  {
   "cell_type": "code",
   "execution_count": null,
   "metadata": {},
   "outputs": [],
   "source": []
  }
 ],
 "metadata": {
  "kernelspec": {
   "display_name": "Clojure",
   "language": "clojure",
   "name": "clojure"
  }
 },
 "nbformat": 4,
 "nbformat_minor": 2
}
